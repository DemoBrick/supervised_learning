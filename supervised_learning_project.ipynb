{
 "cells": [
  {
   "cell_type": "markdown",
   "metadata": {},
   "source": [
    "# Проект: отток клиентов банка"
   ]
  },
  {
   "cell_type": "markdown",
   "metadata": {},
   "source": [
    "В данном проекте мы имеем данные, содержащую информацию о клиенте и о том, ушёл ли клиент из банка. Наша цель построить модель, которая бы предсказывала уход клиента из банка. Модель должна иметь показатель F1-меры не менее 0,59. Также будем следить за метрикой AUC-ROC. Решать предстоит задачу бинарной классификации."
   ]
  },
  {
   "cell_type": "markdown",
   "metadata": {
    "toc": true
   },
   "source": [
    "<h1>Содержание<span class=\"tocSkip\"></span></h1>\n",
    "<div class=\"toc\"><ul class=\"toc-item\"><li><span><a href=\"#Подготовка-данных\" data-toc-modified-id=\"Подготовка-данных-1\"><span class=\"toc-item-num\">1&nbsp;&nbsp;</span>Подготовка данных</a></span></li><li><span><a href=\"#Исследование-задачи\" data-toc-modified-id=\"Исследование-задачи-2\"><span class=\"toc-item-num\">2&nbsp;&nbsp;</span>Исследование задачи</a></span></li><li><span><a href=\"#Баланс-классов\" data-toc-modified-id=\"Баланс-классов-3\"><span class=\"toc-item-num\">3&nbsp;&nbsp;</span>Баланс классов</a></span><ul class=\"toc-item\"><li><span><a href=\"#Балансировка-с-помощью-class_weight\" data-toc-modified-id=\"Балансировка-с-помощью-class_weight-3.1\"><span class=\"toc-item-num\">3.1&nbsp;&nbsp;</span>Балансировка с помощью class_weight</a></span></li><li><span><a href=\"#Upsampling\" data-toc-modified-id=\"Upsampling-3.2\"><span class=\"toc-item-num\">3.2&nbsp;&nbsp;</span>Upsampling</a></span></li><li><span><a href=\"#Downsampling\" data-toc-modified-id=\"Downsampling-3.3\"><span class=\"toc-item-num\">3.3&nbsp;&nbsp;</span>Downsampling</a></span></li><li><span><a href=\"#Вывод\" data-toc-modified-id=\"Вывод-3.4\"><span class=\"toc-item-num\">3.4&nbsp;&nbsp;</span>Вывод</a></span></li></ul></li><li><span><a href=\"#Итоговой-тестирование-и-проверка-на-адекватность\" data-toc-modified-id=\"Итоговой-тестирование-и-проверка-на-адекватность-4\"><span class=\"toc-item-num\">4&nbsp;&nbsp;</span>Итоговой тестирование и проверка на адекватность</a></span></li><li><span><a href=\"#Вывод\" data-toc-modified-id=\"Вывод-5\"><span class=\"toc-item-num\">5&nbsp;&nbsp;</span>Вывод</a></span></li></ul></div>"
   ]
  },
  {
   "cell_type": "markdown",
   "metadata": {},
   "source": [
    "## Подготовка данных"
   ]
  },
  {
   "cell_type": "markdown",
   "metadata": {},
   "source": [
    "Для начала прочитаем данные и посмотрим на информацию о них."
   ]
  },
  {
   "cell_type": "code",
   "execution_count": 24,
   "metadata": {},
   "outputs": [],
   "source": [
    "import pandas as pd\n",
    "import numpy as np\n",
    "\n",
    "from sklearn.linear_model import LogisticRegression\n",
    "from sklearn.tree import DecisionTreeClassifier\n",
    "from sklearn.ensemble import RandomForestClassifier\n",
    "from sklearn.metrics import f1_score, roc_auc_score\n",
    "from sklearn.model_selection import train_test_split\n",
    "from sklearn.preprocessing import StandardScaler\n",
    "from sklearn.dummy import DummyClassifier\n",
    "from sklearn.utils import shuffle"
   ]
  },
  {
   "cell_type": "code",
   "execution_count": 25,
   "metadata": {},
   "outputs": [
    {
     "data": {
      "text/html": [
       "<div>\n",
       "<style scoped>\n",
       "    .dataframe tbody tr th:only-of-type {\n",
       "        vertical-align: middle;\n",
       "    }\n",
       "\n",
       "    .dataframe tbody tr th {\n",
       "        vertical-align: top;\n",
       "    }\n",
       "\n",
       "    .dataframe thead th {\n",
       "        text-align: right;\n",
       "    }\n",
       "</style>\n",
       "<table border=\"1\" class=\"dataframe\">\n",
       "  <thead>\n",
       "    <tr style=\"text-align: right;\">\n",
       "      <th></th>\n",
       "      <th>RowNumber</th>\n",
       "      <th>CustomerId</th>\n",
       "      <th>Surname</th>\n",
       "      <th>CreditScore</th>\n",
       "      <th>Geography</th>\n",
       "      <th>Gender</th>\n",
       "      <th>Age</th>\n",
       "      <th>Tenure</th>\n",
       "      <th>Balance</th>\n",
       "      <th>NumOfProducts</th>\n",
       "      <th>HasCrCard</th>\n",
       "      <th>IsActiveMember</th>\n",
       "      <th>EstimatedSalary</th>\n",
       "      <th>Exited</th>\n",
       "    </tr>\n",
       "  </thead>\n",
       "  <tbody>\n",
       "    <tr>\n",
       "      <th>0</th>\n",
       "      <td>1</td>\n",
       "      <td>15634602</td>\n",
       "      <td>Hargrave</td>\n",
       "      <td>619</td>\n",
       "      <td>France</td>\n",
       "      <td>Female</td>\n",
       "      <td>42</td>\n",
       "      <td>2.0</td>\n",
       "      <td>0.00</td>\n",
       "      <td>1</td>\n",
       "      <td>1</td>\n",
       "      <td>1</td>\n",
       "      <td>101348.88</td>\n",
       "      <td>1</td>\n",
       "    </tr>\n",
       "    <tr>\n",
       "      <th>1</th>\n",
       "      <td>2</td>\n",
       "      <td>15647311</td>\n",
       "      <td>Hill</td>\n",
       "      <td>608</td>\n",
       "      <td>Spain</td>\n",
       "      <td>Female</td>\n",
       "      <td>41</td>\n",
       "      <td>1.0</td>\n",
       "      <td>83807.86</td>\n",
       "      <td>1</td>\n",
       "      <td>0</td>\n",
       "      <td>1</td>\n",
       "      <td>112542.58</td>\n",
       "      <td>0</td>\n",
       "    </tr>\n",
       "    <tr>\n",
       "      <th>2</th>\n",
       "      <td>3</td>\n",
       "      <td>15619304</td>\n",
       "      <td>Onio</td>\n",
       "      <td>502</td>\n",
       "      <td>France</td>\n",
       "      <td>Female</td>\n",
       "      <td>42</td>\n",
       "      <td>8.0</td>\n",
       "      <td>159660.80</td>\n",
       "      <td>3</td>\n",
       "      <td>1</td>\n",
       "      <td>0</td>\n",
       "      <td>113931.57</td>\n",
       "      <td>1</td>\n",
       "    </tr>\n",
       "    <tr>\n",
       "      <th>3</th>\n",
       "      <td>4</td>\n",
       "      <td>15701354</td>\n",
       "      <td>Boni</td>\n",
       "      <td>699</td>\n",
       "      <td>France</td>\n",
       "      <td>Female</td>\n",
       "      <td>39</td>\n",
       "      <td>1.0</td>\n",
       "      <td>0.00</td>\n",
       "      <td>2</td>\n",
       "      <td>0</td>\n",
       "      <td>0</td>\n",
       "      <td>93826.63</td>\n",
       "      <td>0</td>\n",
       "    </tr>\n",
       "    <tr>\n",
       "      <th>4</th>\n",
       "      <td>5</td>\n",
       "      <td>15737888</td>\n",
       "      <td>Mitchell</td>\n",
       "      <td>850</td>\n",
       "      <td>Spain</td>\n",
       "      <td>Female</td>\n",
       "      <td>43</td>\n",
       "      <td>2.0</td>\n",
       "      <td>125510.82</td>\n",
       "      <td>1</td>\n",
       "      <td>1</td>\n",
       "      <td>1</td>\n",
       "      <td>79084.10</td>\n",
       "      <td>0</td>\n",
       "    </tr>\n",
       "  </tbody>\n",
       "</table>\n",
       "</div>"
      ],
      "text/plain": [
       "   RowNumber  CustomerId   Surname  CreditScore Geography  Gender  Age  \\\n",
       "0          1    15634602  Hargrave          619    France  Female   42   \n",
       "1          2    15647311      Hill          608     Spain  Female   41   \n",
       "2          3    15619304      Onio          502    France  Female   42   \n",
       "3          4    15701354      Boni          699    France  Female   39   \n",
       "4          5    15737888  Mitchell          850     Spain  Female   43   \n",
       "\n",
       "   Tenure    Balance  NumOfProducts  HasCrCard  IsActiveMember  \\\n",
       "0     2.0       0.00              1          1               1   \n",
       "1     1.0   83807.86              1          0               1   \n",
       "2     8.0  159660.80              3          1               0   \n",
       "3     1.0       0.00              2          0               0   \n",
       "4     2.0  125510.82              1          1               1   \n",
       "\n",
       "   EstimatedSalary  Exited  \n",
       "0        101348.88       1  \n",
       "1        112542.58       0  \n",
       "2        113931.57       1  \n",
       "3         93826.63       0  \n",
       "4         79084.10       0  "
      ]
     },
     "metadata": {},
     "output_type": "display_data"
    },
    {
     "name": "stdout",
     "output_type": "stream",
     "text": [
      "<class 'pandas.core.frame.DataFrame'>\n",
      "RangeIndex: 10000 entries, 0 to 9999\n",
      "Data columns (total 14 columns):\n",
      " #   Column           Non-Null Count  Dtype  \n",
      "---  ------           --------------  -----  \n",
      " 0   RowNumber        10000 non-null  int64  \n",
      " 1   CustomerId       10000 non-null  int64  \n",
      " 2   Surname          10000 non-null  object \n",
      " 3   CreditScore      10000 non-null  int64  \n",
      " 4   Geography        10000 non-null  object \n",
      " 5   Gender           10000 non-null  object \n",
      " 6   Age              10000 non-null  int64  \n",
      " 7   Tenure           9091 non-null   float64\n",
      " 8   Balance          10000 non-null  float64\n",
      " 9   NumOfProducts    10000 non-null  int64  \n",
      " 10  HasCrCard        10000 non-null  int64  \n",
      " 11  IsActiveMember   10000 non-null  int64  \n",
      " 12  EstimatedSalary  10000 non-null  float64\n",
      " 13  Exited           10000 non-null  int64  \n",
      "dtypes: float64(3), int64(8), object(3)\n",
      "memory usage: 1.1+ MB\n"
     ]
    }
   ],
   "source": [
    "data = pd.read_csv('./Churn.csv')\n",
    "display(data.head())\n",
    "data.info()"
   ]
  },
  {
   "cell_type": "markdown",
   "metadata": {},
   "source": [
    "Видим что в столбце `Tenure` имеются пропущенные значения. Этот столбец показывает сколько лет человек является клиентом банка. Для дальнейшей работы и обучения моделей нам необходимо убрать пропуски. Заполним отсутствующие значения медианой. Также преобразуем данный столбец к формату int, так как года представлены целыми числами."
   ]
  },
  {
   "cell_type": "code",
   "execution_count": 26,
   "metadata": {},
   "outputs": [
    {
     "name": "stdout",
     "output_type": "stream",
     "text": [
      "<class 'pandas.core.frame.DataFrame'>\n",
      "RangeIndex: 10000 entries, 0 to 9999\n",
      "Data columns (total 14 columns):\n",
      " #   Column           Non-Null Count  Dtype  \n",
      "---  ------           --------------  -----  \n",
      " 0   RowNumber        10000 non-null  int64  \n",
      " 1   CustomerId       10000 non-null  int64  \n",
      " 2   Surname          10000 non-null  object \n",
      " 3   CreditScore      10000 non-null  int64  \n",
      " 4   Geography        10000 non-null  object \n",
      " 5   Gender           10000 non-null  object \n",
      " 6   Age              10000 non-null  int64  \n",
      " 7   Tenure           10000 non-null  int64  \n",
      " 8   Balance          10000 non-null  float64\n",
      " 9   NumOfProducts    10000 non-null  int64  \n",
      " 10  HasCrCard        10000 non-null  int64  \n",
      " 11  IsActiveMember   10000 non-null  int64  \n",
      " 12  EstimatedSalary  10000 non-null  float64\n",
      " 13  Exited           10000 non-null  int64  \n",
      "dtypes: float64(2), int64(9), object(3)\n",
      "memory usage: 1.1+ MB\n"
     ]
    }
   ],
   "source": [
    "data['Tenure'] = data['Tenure'].fillna(data['Tenure'].median()).astype('int')\n",
    "data.info()"
   ]
  },
  {
   "cell_type": "markdown",
   "metadata": {},
   "source": [
    "В нашем исследовании признаками будут являться столбцы с 3 по 12 (от `CreditScore` до `EstimatedSalary`). Первые 3 стобца - индекс строки, идентификатор клиента и фамилию не берём, так как они являются просто идентификаторами, которые помогают отличать одного клиента от другого."
   ]
  },
  {
   "cell_type": "code",
   "execution_count": 27,
   "metadata": {},
   "outputs": [],
   "source": [
    "features = data.loc[:, 'CreditScore':'EstimatedSalary']\n",
    "target = data['Exited']"
   ]
  },
  {
   "cell_type": "markdown",
   "metadata": {},
   "source": [
    "Среди признаков есть 2 столбца, содержащие строковые значения - `Geography` и `Gender`. Для работы с моделями машинного обучения нам необходимо преобразовать эти значения в числа. Для этого воспользуемся техникой прямого кодирования."
   ]
  },
  {
   "cell_type": "code",
   "execution_count": 28,
   "metadata": {},
   "outputs": [
    {
     "name": "stdout",
     "output_type": "stream",
     "text": [
      "<class 'pandas.core.frame.DataFrame'>\n",
      "RangeIndex: 10000 entries, 0 to 9999\n",
      "Data columns (total 11 columns):\n",
      " #   Column             Non-Null Count  Dtype  \n",
      "---  ------             --------------  -----  \n",
      " 0   CreditScore        10000 non-null  int64  \n",
      " 1   Age                10000 non-null  int64  \n",
      " 2   Tenure             10000 non-null  int64  \n",
      " 3   Balance            10000 non-null  float64\n",
      " 4   NumOfProducts      10000 non-null  int64  \n",
      " 5   HasCrCard          10000 non-null  int64  \n",
      " 6   IsActiveMember     10000 non-null  int64  \n",
      " 7   EstimatedSalary    10000 non-null  float64\n",
      " 8   Geography_Germany  10000 non-null  uint8  \n",
      " 9   Geography_Spain    10000 non-null  uint8  \n",
      " 10  Gender_Male        10000 non-null  uint8  \n",
      "dtypes: float64(2), int64(6), uint8(3)\n",
      "memory usage: 654.4 KB\n"
     ]
    }
   ],
   "source": [
    "features = pd.get_dummies(features, columns=['Geography', 'Gender'], drop_first=True)\n",
    "features.info()"
   ]
  },
  {
   "cell_type": "markdown",
   "metadata": {},
   "source": [
    "Разобъём данные на 3 выборки - обучающую 60%, валидационную 20% (на ней будем проводить настройку моделей) и тестовую 20% (на ней будем проводить финальное тестирование)."
   ]
  },
  {
   "cell_type": "code",
   "execution_count": 29,
   "metadata": {},
   "outputs": [],
   "source": [
    "features_train, features_valid_test, target_train, target_valid_test = train_test_split(features, target, \n",
    "                                                                test_size=0.4, random_state=12345, stratify=target)\n",
    "features_valid, features_test, target_valid, target_test = train_test_split(features_valid_test, target_valid_test, \n",
    "                                                                test_size=0.5, random_state=12345, stratify=target_valid_test)"
   ]
  },
  {
   "cell_type": "code",
   "execution_count": 30,
   "metadata": {},
   "outputs": [
    {
     "name": "stdout",
     "output_type": "stream",
     "text": [
      "Обучающая выборка:\n",
      " 0    4778\n",
      "1    1222\n",
      "Name: Exited, dtype: int64 \n",
      "\n",
      "Валидационная выбока:\n",
      " 0    1592\n",
      "1     408\n",
      "Name: Exited, dtype: int64 \n",
      "\n",
      "Тестовая выборка:\n",
      " 0    1593\n",
      "1     407\n",
      "Name: Exited, dtype: int64 \n",
      "\n"
     ]
    }
   ],
   "source": [
    "print('Обучающая выборка:\\n', target_train.value_counts(), '\\n')\n",
    "print('Валидационная выбока:\\n', target_valid.value_counts(), '\\n')\n",
    "print('Тестовая выборка:\\n', target_test.value_counts(), '\\n')"
   ]
  },
  {
   "cell_type": "code",
   "execution_count": 31,
   "metadata": {},
   "outputs": [
    {
     "name": "stdout",
     "output_type": "stream",
     "text": [
      "(6000, 11)\n",
      "(2000, 11)\n",
      "(2000, 11)\n"
     ]
    }
   ],
   "source": [
    "print(features_train.shape)\n",
    "print(features_valid.shape)\n",
    "print(features_test.shape)"
   ]
  },
  {
   "cell_type": "markdown",
   "metadata": {},
   "source": [
    "Признаки в нашем наборе данных имеют разный масштаб. Это может привести к неправильному обучению модели. Чтобы этого избежать применим метод стандартизации данных. Стандартизировать требуется только числовые признаки."
   ]
  },
  {
   "cell_type": "code",
   "execution_count": 32,
   "metadata": {},
   "outputs": [],
   "source": [
    "pd.options.mode.chained_assignment = None\n",
    "\n",
    "numeric = ['CreditScore', 'Age', 'Tenure', 'Balance', 'NumOfProducts', 'EstimatedSalary']\n",
    "scaler = StandardScaler()\n",
    "scaler.fit(features_train[numeric])\n",
    "features_train[numeric] = scaler.transform(features_train[numeric])\n",
    "features_valid[numeric] = scaler.transform(features_valid[numeric])\n",
    "features_test[numeric] = scaler.transform(features_test[numeric])"
   ]
  },
  {
   "cell_type": "markdown",
   "metadata": {},
   "source": [
    "## Исследование задачи"
   ]
  },
  {
   "cell_type": "markdown",
   "metadata": {},
   "source": [
    "Нам необходимо определить, есть ли в обучающей выборке дисбаланс классов. Дисбаланс может негативно сказаться на обучении модели. Посчитаем, сколько в целевом признаке встречается класс \"1\", а сколько \"0\"."
   ]
  },
  {
   "cell_type": "code",
   "execution_count": 33,
   "metadata": {},
   "outputs": [
    {
     "name": "stdout",
     "output_type": "stream",
     "text": [
      "Доля класса \"1\": 0.20366666666666666\n",
      "Доля класса \"0\": 0.7963333333333333\n"
     ]
    }
   ],
   "source": [
    "target_train_ones = target_train[target_train == 1]\n",
    "target_train_zeros = target_train[target_train == 0]\n",
    "print('Доля класса \"1\":', len(target_train_ones)/(len(target_train_ones)+len(target_train_zeros)))\n",
    "print('Доля класса \"0\":', len(target_train_zeros)/(len(target_train_ones)+len(target_train_zeros)))"
   ]
  },
  {
   "cell_type": "markdown",
   "metadata": {},
   "source": [
    "Нулевой класс встречается в нашей выборке в 4 раза чаще. Это говорит нам о дисбалансе. Но для начала обучим модели на несбалансированной выборке, чтобы иметь возможность сравнить, как дисбаланс влияет на качество моделей и метрики."
   ]
  },
  {
   "cell_type": "markdown",
   "metadata": {},
   "source": [
    "Обучим решающее дерево и попробуем найти глубину, которая даст наибольшее значение для F1."
   ]
  },
  {
   "cell_type": "code",
   "execution_count": 34,
   "metadata": {},
   "outputs": [
    {
     "name": "stdout",
     "output_type": "stream",
     "text": [
      "Глубина решающего дерева: 7\n",
      "Минимальное количество выборок для разделения узла: 5\n",
      "F1-мера для решающего дерева при дисбалансе: 0.5977011494252873\n",
      "AUC-ROC для решающего дерева при дисбалансе: 0.8297315314316682\n"
     ]
    }
   ],
   "source": [
    "tree_best_depth = 0\n",
    "best_split = 0\n",
    "tree_f1_best = 0\n",
    "model_tree = None\n",
    "for depth in range(1, 16):\n",
    "    for split in range(2, 21):\n",
    "        model = DecisionTreeClassifier(max_depth=depth, min_samples_split=split, random_state=12345)\n",
    "        model.fit(features_train, target_train)\n",
    "        predictions = model.predict(features_valid)\n",
    "        tree_f1 = f1_score(target_valid, predictions)\n",
    "        if tree_f1 > tree_f1_best:\n",
    "            tree_f1_best = tree_f1\n",
    "            tree_best_depth = depth\n",
    "            best_split = split\n",
    "            model_tree = model\n",
    "        \n",
    "print('Глубина решающего дерева:', tree_best_depth)\n",
    "print('Минимальное количество выборок для разделения узла:', best_split)\n",
    "print('F1-мера для решающего дерева при дисбалансе:', tree_f1_best)\n",
    "probabilities = model_tree.predict_proba(features_valid)\n",
    "print('AUC-ROC для решающего дерева при дисбалансе:', roc_auc_score(target_valid, probabilities[:, 1]))"
   ]
  },
  {
   "cell_type": "markdown",
   "metadata": {},
   "source": [
    "Теперь рассмотрим модель случайного леса и попробуем подобрать наилучшие значения для глубины дерева и количества деревьев."
   ]
  },
  {
   "cell_type": "code",
   "execution_count": 35,
   "metadata": {},
   "outputs": [
    {
     "name": "stdout",
     "output_type": "stream",
     "text": [
      "Максимальная глубина леса: 15\n",
      "Наилучшее количество деревьев леса: 60\n",
      "F1-мера для случайного леса при дисбалансе: 0.6283185840707965\n"
     ]
    }
   ],
   "source": [
    "forest_best_depth = 0\n",
    "best_n_estimators = 0\n",
    "forest_f1_best = 0\n",
    "model_forest = None\n",
    "\n",
    "for number in range(10, 101, 10):\n",
    "    for depth in range (1, 16):\n",
    "        model = RandomForestClassifier(max_depth=depth, n_estimators=number, random_state=12345)\n",
    "        model.fit(features_train, target_train)\n",
    "        predictions = model.predict(features_valid)\n",
    "        forest_f1 = f1_score(target_valid, predictions)\n",
    "        if forest_f1 > forest_f1_best:\n",
    "            forest_best_depth = depth\n",
    "            best_n_estimators = number\n",
    "            forest_f1_best = forest_f1\n",
    "            model_forest = model\n",
    "\n",
    "print('Максимальная глубина леса:', forest_best_depth)\n",
    "print('Наилучшее количество деревьев леса:', best_n_estimators)\n",
    "print('F1-мера для случайного леса при дисбалансе:', forest_f1_best)"
   ]
  },
  {
   "cell_type": "code",
   "execution_count": 36,
   "metadata": {},
   "outputs": [
    {
     "name": "stdout",
     "output_type": "stream",
     "text": [
      "AUC-ROC для случайного леса при дисбалансе: 0.8644540102473149\n"
     ]
    }
   ],
   "source": [
    "probabilities = model_forest.predict_proba(features_valid)\n",
    "print('AUC-ROC для случайного леса при дисбалансе:', roc_auc_score(target_valid, probabilities[:, 1]))"
   ]
  },
  {
   "cell_type": "markdown",
   "metadata": {},
   "source": [
    "Наилучшие результаты по обеим метрикам показывает модель случайного леса."
   ]
  },
  {
   "cell_type": "markdown",
   "metadata": {},
   "source": [
    "## Баланс классов"
   ]
  },
  {
   "cell_type": "markdown",
   "metadata": {},
   "source": [
    "### Балансировка с помощью class_weight"
   ]
  },
  {
   "cell_type": "markdown",
   "metadata": {},
   "source": [
    "Теперь пришло время обучить модели на сбалансированных данных. Есть несколько способов борьбы с дисбалансом классов. Можно увеличить частоту редкого класса, размножив его объекты. Или же наоборот, удалить часть объектов частого класса. Мы воспользуемся самым простым способом и при обучении моделей укажем в качестве параметра class_weight='balanced'. В таком случае модель назначит более редкому классу более высокий вес."
   ]
  },
  {
   "cell_type": "code",
   "execution_count": 37,
   "metadata": {},
   "outputs": [
    {
     "name": "stdout",
     "output_type": "stream",
     "text": [
      "Глубина решающего дерева: 6\n",
      "Минимальное количество выборок для разделения узла: 4\n",
      "F1-мера для решающего дерева: 0.5780240073868882\n",
      "AUC-ROC для решающего дерева: 0.8272613065326633\n"
     ]
    }
   ],
   "source": [
    "balanced_depth = 0\n",
    "balanced_split = 0\n",
    "f1_tree_balanced = 0\n",
    "model_tree_balanced = None\n",
    "\n",
    "for depth in range(1, 16):\n",
    "    for split in range(2, 21):\n",
    "        model = DecisionTreeClassifier(max_depth=depth, min_samples_split=split, class_weight='balanced', random_state=12345)\n",
    "        model.fit(features_train, target_train)\n",
    "        predictions = model.predict(features_valid)\n",
    "        tree_f1 = f1_score(target_valid, predictions)\n",
    "        if tree_f1 > f1_tree_balanced:\n",
    "            f1_tree_balanced = tree_f1\n",
    "            balanced_split = split\n",
    "            balanced_depth = depth\n",
    "            model_tree_balanced = model\n",
    "        \n",
    "print('Глубина решающего дерева:', balanced_depth)\n",
    "print('Минимальное количество выборок для разделения узла:', balanced_split)\n",
    "print('F1-мера для решающего дерева:', f1_tree_balanced)\n",
    "probabilities = model_tree_balanced.predict_proba(features_valid)\n",
    "print('AUC-ROC для решающего дерева:', roc_auc_score(target_valid, probabilities[:, 1]))"
   ]
  },
  {
   "cell_type": "markdown",
   "metadata": {},
   "source": [
    "А вот решающее дерево показало результаты хуже, чем при дисбалансе классов."
   ]
  },
  {
   "cell_type": "code",
   "execution_count": 38,
   "metadata": {},
   "outputs": [],
   "source": [
    "forest_best_depth = 0\n",
    "forest_f1_best = 0\n",
    "best_n_estimators = 0\n",
    "model_forest_balanced = None\n",
    "\n",
    "for number in range(10, 101, 10):\n",
    "    for depth in range (1, 16):\n",
    "        model = RandomForestClassifier(max_depth=depth, n_estimators=number, \n",
    "                                   class_weight='balanced', random_state=12345)\n",
    "        model.fit(features_train, target_train)\n",
    "        predictions = model.predict(features_valid)\n",
    "        forest_f1 = f1_score(target_valid, predictions)\n",
    "        if forest_f1 > forest_f1_best:\n",
    "            forest_best_depth = depth\n",
    "            best_n_estimators = number\n",
    "            forest_f1_best = forest_f1\n",
    "            model_forest_balanced = model"
   ]
  },
  {
   "cell_type": "code",
   "execution_count": 39,
   "metadata": {},
   "outputs": [
    {
     "name": "stdout",
     "output_type": "stream",
     "text": [
      "Наилучшая максимальная глубина леса: 10\n",
      "Наилучшее количество деревьев: 30\n",
      "F1-мера для случайного леса: 0.6499402628434886\n",
      "AUC-ROC случайного леса: 0.8697808897428319\n"
     ]
    }
   ],
   "source": [
    "print('Наилучшая максимальная глубина леса:', forest_best_depth)\n",
    "print('Наилучшее количество деревьев:', best_n_estimators)\n",
    "print('F1-мера для случайного леса:', forest_f1_best)\n",
    "probabilities = model_forest_balanced.predict_proba(features_valid)\n",
    "print('AUC-ROC случайного леса:', roc_auc_score(target_valid, probabilities[:, 1]))"
   ]
  },
  {
   "cell_type": "markdown",
   "metadata": {},
   "source": [
    "### Upsampling"
   ]
  },
  {
   "cell_type": "markdown",
   "metadata": {},
   "source": [
    "Метод upsampling подразумевает увеличение частоты редкого класса. Для этого разобъём обучающую выборку на классы, скопируем несколько раз редкий класс и перемешаем данные. Учитывая, что нулевой класс у нас встречается примерно в 4 раза реже, то при копировании умножать будем на 4. После проверим, как работают модели на данных после upsampling."
   ]
  },
  {
   "cell_type": "code",
   "execution_count": 40,
   "metadata": {},
   "outputs": [
    {
     "name": "stdout",
     "output_type": "stream",
     "text": [
      "1    4888\n",
      "0    4778\n",
      "Name: Exited, dtype: int64\n"
     ]
    }
   ],
   "source": [
    "def upsample(features, target, repeat):\n",
    "    features_zeros = features[target == 0]\n",
    "    features_ones = features[target == 1]\n",
    "    target_zeros = target[target == 0]\n",
    "    target_ones = target[target == 1]\n",
    "\n",
    "    features_upsampled = pd.concat([features_zeros] + [features_ones] * repeat)\n",
    "    target_upsampled = pd.concat([target_zeros] + [target_ones] * repeat)\n",
    "    \n",
    "    features_upsampled, target_upsampled = shuffle(\n",
    "        features_upsampled, target_upsampled, random_state=12345)\n",
    "    \n",
    "    return features_upsampled, target_upsampled\n",
    "\n",
    "features_train_upsampled, target_train_upsampled = upsample(features_train, target_train, 4)\n",
    "print(target_train_upsampled.value_counts())"
   ]
  },
  {
   "cell_type": "code",
   "execution_count": 41,
   "metadata": {},
   "outputs": [
    {
     "name": "stdout",
     "output_type": "stream",
     "text": [
      "Глубина решающего дерева, метод upsampling: 6\n",
      "Минимальное количество выборок для разделения узла: 10\n",
      "F1-мера для решающего дерева, метод upsampling: 0.5780240073868882\n",
      "AUC-ROC для решающего дерева, метод upsampling: 0.827699311508523\n"
     ]
    }
   ],
   "source": [
    "tree_best_depth = 0\n",
    "best_split = 0\n",
    "tree_f1_best = 0\n",
    "model_tree_upample = None\n",
    "for depth in range(1, 16):\n",
    "    for split in range(2, 21):\n",
    "        model = DecisionTreeClassifier(max_depth=depth, min_samples_split=split, random_state=12345)\n",
    "        model.fit(features_train_upsampled, target_train_upsampled)\n",
    "        predictions = model.predict(features_valid)\n",
    "        tree_f1 = f1_score(target_valid, predictions)\n",
    "        if tree_f1 > tree_f1_best:\n",
    "            tree_f1_best = tree_f1\n",
    "            best_split = split\n",
    "            tree_best_depth = depth\n",
    "            model_tree_upample = model\n",
    "        \n",
    "print('Глубина решающего дерева, метод upsampling:', tree_best_depth)\n",
    "print('Минимальное количество выборок для разделения узла:', best_split)\n",
    "print('F1-мера для решающего дерева, метод upsampling:', tree_f1_best)\n",
    "probabilities = model_tree_upample.predict_proba(features_valid)\n",
    "print('AUC-ROC для решающего дерева, метод upsampling:', roc_auc_score(target_valid, probabilities[:, 1]))"
   ]
  },
  {
   "cell_type": "code",
   "execution_count": 42,
   "metadata": {},
   "outputs": [
    {
     "name": "stdout",
     "output_type": "stream",
     "text": [
      "Максимальная глубина леса, метод upsampling: 10\n",
      "Наилучшее количество деревьев леса, метод upsampling: 30\n",
      "F1-мера для случайного леса, метод upsampling: 0.6511134676564156\n",
      "AUC-ROC для случайного, метод upsampling: 0.8664554389595034\n"
     ]
    }
   ],
   "source": [
    "forest_best_depth = 0\n",
    "best_n_estimators = 0\n",
    "forest_f1_best = 0\n",
    "model_forest_upsample = None\n",
    "\n",
    "for number in range(10, 101, 10):\n",
    "    for depth in range (1, 16):\n",
    "        model = RandomForestClassifier(max_depth=depth, n_estimators=number, random_state=12345)\n",
    "        model.fit(features_train_upsampled, target_train_upsampled)\n",
    "        predictions = model.predict(features_valid)\n",
    "        forest_f1 = f1_score(target_valid, predictions)\n",
    "        if forest_f1 > forest_f1_best:\n",
    "            forest_best_depth = depth\n",
    "            best_n_estimators = number\n",
    "            forest_f1_best = forest_f1\n",
    "            model_forest_upsample = model\n",
    "\n",
    "print('Максимальная глубина леса, метод upsampling:', forest_best_depth)\n",
    "print('Наилучшее количество деревьев леса, метод upsampling:', best_n_estimators)\n",
    "print('F1-мера для случайного леса, метод upsampling:', forest_f1_best)\n",
    "probabilities = model_forest_upsample.predict_proba(features_valid)\n",
    "print('AUC-ROC для случайного, метод upsampling:', roc_auc_score(target_valid, probabilities[:, 1]))"
   ]
  },
  {
   "cell_type": "markdown",
   "metadata": {},
   "source": [
    "### Downsampling"
   ]
  },
  {
   "cell_type": "markdown",
   "metadata": {},
   "source": [
    "Данный метод подразумевает уменьшение большого класса и, как следствие, всей выборки в целом. Сначала выборка разбивается на классы, случайным образом отбрасываются объекты большего класса. Затем выборка снова собирается и перемешивается."
   ]
  },
  {
   "cell_type": "code",
   "execution_count": 43,
   "metadata": {},
   "outputs": [
    {
     "name": "stdout",
     "output_type": "stream",
     "text": [
      "1    1222\n",
      "0    1194\n",
      "Name: Exited, dtype: int64\n"
     ]
    }
   ],
   "source": [
    "def downsample(features, target, fraction):\n",
    "    features_zeros = features[target == 0]\n",
    "    features_ones = features[target == 1]\n",
    "    target_zeros = target[target == 0]\n",
    "    target_ones = target[target == 1]\n",
    "\n",
    "    features_downsampled = pd.concat(\n",
    "        [features_zeros.sample(frac=fraction, random_state=12345)] + [features_ones])\n",
    "    target_downsampled = pd.concat(\n",
    "        [target_zeros.sample(frac=fraction, random_state=12345)] + [target_ones])\n",
    "    \n",
    "    features_downsampled, target_downsampled = shuffle(\n",
    "        features_downsampled, target_downsampled, random_state=12345)\n",
    "    \n",
    "    return features_downsampled, target_downsampled\n",
    "\n",
    "features_train_downsampled, target_train_downsampled = downsample(features_train, target_train, 0.25)\n",
    "print(target_train_downsampled.value_counts())"
   ]
  },
  {
   "cell_type": "code",
   "execution_count": 44,
   "metadata": {},
   "outputs": [
    {
     "name": "stdout",
     "output_type": "stream",
     "text": [
      "Глубина решающего дерева, метод downsampling: 6\n",
      "Минимальное количество выборок для разделения узла: 7\n",
      "F1-мера для решающего дерева, метод downsampling: 0.5971563981042654\n",
      "AUC-ROC для решающего дерева, метод downsampling: 0.8525763006207507\n"
     ]
    }
   ],
   "source": [
    "tree_best_depth = 0\n",
    "best_split = 0\n",
    "tree_f1_best = 0\n",
    "model_tree_downsample = None\n",
    "for depth in range(1, 16):\n",
    "    for split in range(2, 21):\n",
    "        model = DecisionTreeClassifier(max_depth=depth, min_samples_split=split, random_state=12345)\n",
    "        model.fit(features_train_downsampled, target_train_downsampled)\n",
    "        predictions = model.predict(features_valid)\n",
    "        tree_f1 = f1_score(target_valid, predictions)\n",
    "        if tree_f1 > tree_f1_best:\n",
    "            tree_f1_best = tree_f1\n",
    "            best_split = split\n",
    "            tree_best_depth = depth\n",
    "            model_tree_downsample = model\n",
    "        \n",
    "print('Глубина решающего дерева, метод downsampling:', tree_best_depth)\n",
    "print('Минимальное количество выборок для разделения узла:', best_split)\n",
    "print('F1-мера для решающего дерева, метод downsampling:', tree_f1_best)\n",
    "probabilities = model_tree_downsample.predict_proba(features_valid)\n",
    "print('AUC-ROC для решающего дерева, метод downsampling:', roc_auc_score(target_valid, probabilities[:, 1]))"
   ]
  },
  {
   "cell_type": "code",
   "execution_count": 45,
   "metadata": {},
   "outputs": [
    {
     "name": "stdout",
     "output_type": "stream",
     "text": [
      "Максимальная глубина леса, метод upsampling: 7\n",
      "Наилучшее количество деревьев леса, метод upsampling: 30\n",
      "F1-мера для случайного леса, метод upsampling: 0.6375121477162294\n",
      "AUC-ROC для случайного, метод upsampling: 0.8654593432850527\n"
     ]
    }
   ],
   "source": [
    "forest_best_depth = 0\n",
    "best_n_estimators = 0\n",
    "forest_f1_best = 0\n",
    "model_forest_downsample = None\n",
    "\n",
    "for number in range(10, 101, 10):\n",
    "    for depth in range (1, 16):\n",
    "        model = RandomForestClassifier(max_depth=depth, n_estimators=number, random_state=12345)\n",
    "        model.fit(features_train_downsampled, target_train_downsampled)\n",
    "        predictions = model.predict(features_valid)\n",
    "        forest_f1 = f1_score(target_valid, predictions)\n",
    "        if forest_f1 > forest_f1_best:\n",
    "            forest_best_depth = depth\n",
    "            best_n_estimators = number\n",
    "            forest_f1_best = forest_f1\n",
    "            model_forest_downsample = model\n",
    "\n",
    "print('Максимальная глубина леса, метод upsampling:', forest_best_depth)\n",
    "print('Наилучшее количество деревьев леса, метод upsampling:', best_n_estimators)\n",
    "print('F1-мера для случайного леса, метод upsampling:', forest_f1_best)\n",
    "probabilities = model_forest_downsample.predict_proba(features_valid)\n",
    "print('AUC-ROC для случайного, метод upsampling:', roc_auc_score(target_valid, probabilities[:, 1]))"
   ]
  },
  {
   "cell_type": "markdown",
   "metadata": {},
   "source": [
    "### Вывод"
   ]
  },
  {
   "cell_type": "markdown",
   "metadata": {},
   "source": [
    "Мы рассмотрели разные методы борьбы с дисбалансом. Все модели показали лучшие результаты по сравнению с моделями, обученными на несбалансированных классах. При этом разница метрики AUC-ROC невелика. Разница в методах есть и отличается для каждой модели. Например модель решающего дерева показала лучшие результаты при использовании метода downsampling, а модель случайного леса - при upsampling. Для тестирования выберем лучшую модель. Ею является модель случайного леса с глубиной 10, количеством деревьев 30, обученная на выборке после upsampling."
   ]
  },
  {
   "cell_type": "markdown",
   "metadata": {},
   "source": [
    "## Итоговой тестирование и проверка на адекватность"
   ]
  },
  {
   "cell_type": "markdown",
   "metadata": {},
   "source": [
    "Протестируем нашей наиболее успешной модели на тестовой выборке."
   ]
  },
  {
   "cell_type": "code",
   "execution_count": 46,
   "metadata": {},
   "outputs": [
    {
     "name": "stdout",
     "output_type": "stream",
     "text": [
      "F1-мера случайного леса на тестовой выборке: 0.6013071895424837\n",
      "AUC-ROC случайного леса на тестовой выборке: 0.8489938320446795\n"
     ]
    }
   ],
   "source": [
    "predictions = model_forest_upsample.predict(features_test)\n",
    "print('F1-мера случайного леса на тестовой выборке:', f1_score(target_test, predictions))\n",
    "probabilities = model_forest_upsample.predict_proba(features_test)\n",
    "print('AUC-ROC случайного леса на тестовой выборке:', roc_auc_score(target_test, probabilities[:, 1]))"
   ]
  },
  {
   "cell_type": "markdown",
   "metadata": {},
   "source": [
    "Наша модель преодолела порог в 0,59 для F1-меры. Также как видно из AUC-ROC модель предсказывает лучше случайной модели (AUC-ROC случайной модели = 0,5)."
   ]
  },
  {
   "cell_type": "markdown",
   "metadata": {},
   "source": [
    "## Вывод"
   ]
  },
  {
   "cell_type": "markdown",
   "metadata": {},
   "source": [
    "В данном проекте мы выбирали модель, которая бы предсказывала уход клиентов из банка. Мы рассмотрели несколько моделей (дерево решений, случайный лес) и их гиперпараметры. Для оценки использовали метрику F1-мера. Наилучшие результаты показала модель случайного леса.\n",
    "Также мы исследовали влияние дисбаланса классов на модель. Дисбаланс классов снижает качество обучения и как следствие предсказательную способность модели. Метрики F1 и AUC-ROC у моделей, обученных на несбалансированных данных были ниже. Хотя на AUC-ROC дисбаланс повлиял не так сильно, как на F1-меру."
   ]
  }
 ],
 "metadata": {
  "ExecuteTimeLog": [
   {
    "duration": 394,
    "start_time": "2023-02-12T07:33:45.425Z"
   },
   {
    "duration": 111,
    "start_time": "2023-02-12T07:34:31.308Z"
   },
   {
    "duration": 8,
    "start_time": "2023-02-12T07:38:59.115Z"
   },
   {
    "duration": 86,
    "start_time": "2023-02-12T07:43:46.228Z"
   },
   {
    "duration": 28,
    "start_time": "2023-02-12T07:44:17.518Z"
   },
   {
    "duration": 2,
    "start_time": "2023-02-12T07:44:31.052Z"
   },
   {
    "duration": 28,
    "start_time": "2023-02-12T07:44:34.324Z"
   },
   {
    "duration": 24,
    "start_time": "2023-02-12T07:44:46.471Z"
   },
   {
    "duration": 16,
    "start_time": "2023-02-12T07:45:55.618Z"
   },
   {
    "duration": 448,
    "start_time": "2023-02-16T12:52:44.225Z"
   },
   {
    "duration": 212,
    "start_time": "2023-02-16T12:52:44.675Z"
   },
   {
    "duration": 7,
    "start_time": "2023-02-16T12:52:44.888Z"
   },
   {
    "duration": 35,
    "start_time": "2023-02-16T12:52:44.897Z"
   },
   {
    "duration": 74,
    "start_time": "2023-02-16T13:02:50.756Z"
   },
   {
    "duration": 23,
    "start_time": "2023-02-16T13:03:31.392Z"
   },
   {
    "duration": 15,
    "start_time": "2023-02-16T13:04:20.739Z"
   },
   {
    "duration": 21,
    "start_time": "2023-02-16T13:05:01.588Z"
   },
   {
    "duration": 21,
    "start_time": "2023-02-16T13:05:09.304Z"
   },
   {
    "duration": 28,
    "start_time": "2023-02-16T13:05:22.357Z"
   },
   {
    "duration": 8,
    "start_time": "2023-02-16T13:07:27.884Z"
   },
   {
    "duration": 17,
    "start_time": "2023-02-16T13:07:36.408Z"
   },
   {
    "duration": 3,
    "start_time": "2023-02-16T13:08:02.558Z"
   },
   {
    "duration": 66,
    "start_time": "2023-02-16T13:08:02.603Z"
   },
   {
    "duration": 5,
    "start_time": "2023-02-16T13:08:02.671Z"
   },
   {
    "duration": 36,
    "start_time": "2023-02-16T13:08:02.677Z"
   },
   {
    "duration": 7,
    "start_time": "2023-02-16T13:08:48.549Z"
   },
   {
    "duration": 14,
    "start_time": "2023-02-16T13:08:55.940Z"
   },
   {
    "duration": 8,
    "start_time": "2023-02-16T13:09:01.193Z"
   },
   {
    "duration": 18,
    "start_time": "2023-02-16T13:09:25.677Z"
   },
   {
    "duration": 9,
    "start_time": "2023-02-16T13:09:38.243Z"
   },
   {
    "duration": 13,
    "start_time": "2023-02-16T13:10:04.010Z"
   },
   {
    "duration": 4,
    "start_time": "2023-02-16T13:10:38.918Z"
   },
   {
    "duration": 4,
    "start_time": "2023-02-16T13:10:46.384Z"
   },
   {
    "duration": 4,
    "start_time": "2023-02-16T13:12:51.552Z"
   },
   {
    "duration": 7,
    "start_time": "2023-02-16T13:13:00.743Z"
   },
   {
    "duration": 8,
    "start_time": "2023-02-16T13:13:12.055Z"
   },
   {
    "duration": 17,
    "start_time": "2023-02-16T13:13:42.429Z"
   },
   {
    "duration": 10,
    "start_time": "2023-02-16T13:15:03.506Z"
   },
   {
    "duration": 784,
    "start_time": "2023-02-16T14:18:37.174Z"
   },
   {
    "duration": 3,
    "start_time": "2023-02-16T14:19:00.199Z"
   },
   {
    "duration": 753,
    "start_time": "2023-02-16T14:21:54.380Z"
   },
   {
    "duration": 11,
    "start_time": "2023-02-16T14:22:15.241Z"
   },
   {
    "duration": 12,
    "start_time": "2023-02-16T14:22:25.361Z"
   },
   {
    "duration": 19,
    "start_time": "2023-02-16T14:22:31.592Z"
   },
   {
    "duration": 9,
    "start_time": "2023-02-16T14:25:19.489Z"
   },
   {
    "duration": 9,
    "start_time": "2023-02-16T14:25:36.688Z"
   },
   {
    "duration": 7,
    "start_time": "2023-02-16T14:25:48.208Z"
   },
   {
    "duration": 11,
    "start_time": "2023-02-16T14:26:02.980Z"
   },
   {
    "duration": 10,
    "start_time": "2023-02-16T14:26:05.258Z"
   },
   {
    "duration": 10,
    "start_time": "2023-02-16T14:27:16.104Z"
   },
   {
    "duration": 10,
    "start_time": "2023-02-16T14:28:26.417Z"
   },
   {
    "duration": 10,
    "start_time": "2023-02-16T14:28:49.458Z"
   },
   {
    "duration": 17,
    "start_time": "2023-02-16T14:29:02.959Z"
   },
   {
    "duration": 13,
    "start_time": "2023-02-16T14:29:17.334Z"
   },
   {
    "duration": 7,
    "start_time": "2023-02-16T14:29:32.340Z"
   },
   {
    "duration": 10,
    "start_time": "2023-02-16T14:29:45.266Z"
   },
   {
    "duration": 9,
    "start_time": "2023-02-16T14:29:47.048Z"
   },
   {
    "duration": 15,
    "start_time": "2023-02-16T14:29:49.074Z"
   },
   {
    "duration": 6,
    "start_time": "2023-02-16T14:31:33.665Z"
   },
   {
    "duration": 6,
    "start_time": "2023-02-16T14:32:26.416Z"
   },
   {
    "duration": 5,
    "start_time": "2023-02-16T14:32:41.893Z"
   },
   {
    "duration": 46,
    "start_time": "2023-02-17T11:20:55.991Z"
   },
   {
    "duration": 1108,
    "start_time": "2023-02-17T11:20:58.810Z"
   },
   {
    "duration": 108,
    "start_time": "2023-02-17T11:20:59.920Z"
   },
   {
    "duration": 6,
    "start_time": "2023-02-17T11:21:00.030Z"
   },
   {
    "duration": 7,
    "start_time": "2023-02-17T11:21:00.038Z"
   },
   {
    "duration": 7,
    "start_time": "2023-02-17T11:21:21.912Z"
   },
   {
    "duration": 10,
    "start_time": "2023-02-17T11:21:50.388Z"
   },
   {
    "duration": 63,
    "start_time": "2023-02-17T11:53:55.094Z"
   },
   {
    "duration": 12,
    "start_time": "2023-02-17T11:53:58.283Z"
   },
   {
    "duration": 9,
    "start_time": "2023-02-17T11:54:01.008Z"
   },
   {
    "duration": 6,
    "start_time": "2023-02-17T11:54:03.892Z"
   },
   {
    "duration": 5,
    "start_time": "2023-02-17T11:54:15.634Z"
   },
   {
    "duration": 7,
    "start_time": "2023-02-17T11:54:18.647Z"
   },
   {
    "duration": 3,
    "start_time": "2023-02-17T11:54:57.590Z"
   },
   {
    "duration": 54,
    "start_time": "2023-02-17T11:54:57.607Z"
   },
   {
    "duration": 13,
    "start_time": "2023-02-17T11:54:57.662Z"
   },
   {
    "duration": 14,
    "start_time": "2023-02-17T12:49:31.059Z"
   },
   {
    "duration": 4,
    "start_time": "2023-02-17T12:49:41.669Z"
   },
   {
    "duration": 9,
    "start_time": "2023-02-17T12:50:25.177Z"
   },
   {
    "duration": 6,
    "start_time": "2023-02-17T12:51:14.417Z"
   },
   {
    "duration": 1144,
    "start_time": "2023-02-17T12:58:06.056Z"
   },
   {
    "duration": 63,
    "start_time": "2023-02-17T12:58:07.202Z"
   },
   {
    "duration": 13,
    "start_time": "2023-02-17T12:58:07.266Z"
   },
   {
    "duration": 6,
    "start_time": "2023-02-17T13:00:10.557Z"
   },
   {
    "duration": 13,
    "start_time": "2023-02-17T13:00:27.180Z"
   },
   {
    "duration": 18,
    "start_time": "2023-02-17T13:02:37.103Z"
   },
   {
    "duration": 122,
    "start_time": "2023-02-17T13:46:57.568Z"
   },
   {
    "duration": 4,
    "start_time": "2023-02-17T13:47:09.323Z"
   },
   {
    "duration": 86,
    "start_time": "2023-02-17T13:47:12.593Z"
   },
   {
    "duration": 15,
    "start_time": "2023-02-17T13:47:26.628Z"
   },
   {
    "duration": 10,
    "start_time": "2023-02-17T13:47:39.796Z"
   },
   {
    "duration": 3,
    "start_time": "2023-02-17T13:48:35.794Z"
   },
   {
    "duration": 168,
    "start_time": "2023-02-17T13:48:35.801Z"
   },
   {
    "duration": 13,
    "start_time": "2023-02-17T13:48:35.971Z"
   },
   {
    "duration": 23,
    "start_time": "2023-02-17T13:48:35.986Z"
   },
   {
    "duration": 51,
    "start_time": "2023-02-17T13:48:36.011Z"
   },
   {
    "duration": 11,
    "start_time": "2023-02-17T13:48:36.064Z"
   },
   {
    "duration": 17,
    "start_time": "2023-02-17T13:48:36.076Z"
   },
   {
    "duration": 45,
    "start_time": "2023-02-17T13:48:45.785Z"
   },
   {
    "duration": 16,
    "start_time": "2023-02-17T13:49:09.385Z"
   },
   {
    "duration": 7,
    "start_time": "2023-02-17T13:55:41.509Z"
   },
   {
    "duration": 6,
    "start_time": "2023-02-17T13:55:57.049Z"
   },
   {
    "duration": 6,
    "start_time": "2023-02-17T13:57:21.010Z"
   },
   {
    "duration": 13,
    "start_time": "2023-02-17T13:59:52.234Z"
   },
   {
    "duration": 16,
    "start_time": "2023-02-17T14:14:20.095Z"
   },
   {
    "duration": 13,
    "start_time": "2023-02-17T14:15:13.239Z"
   },
   {
    "duration": 6,
    "start_time": "2023-02-17T14:15:19.551Z"
   },
   {
    "duration": 1059,
    "start_time": "2023-02-17T14:42:25.788Z"
   },
   {
    "duration": 62,
    "start_time": "2023-02-17T14:42:26.849Z"
   },
   {
    "duration": 14,
    "start_time": "2023-02-17T14:42:26.913Z"
   },
   {
    "duration": 4,
    "start_time": "2023-02-17T14:42:26.929Z"
   },
   {
    "duration": 42,
    "start_time": "2023-02-17T14:42:26.935Z"
   },
   {
    "duration": 102,
    "start_time": "2023-02-17T14:42:26.978Z"
   },
   {
    "duration": 0,
    "start_time": "2023-02-17T14:42:27.082Z"
   },
   {
    "duration": 0,
    "start_time": "2023-02-17T14:42:27.084Z"
   },
   {
    "duration": 0,
    "start_time": "2023-02-17T14:42:27.086Z"
   },
   {
    "duration": 1039,
    "start_time": "2023-02-17T14:42:48.381Z"
   },
   {
    "duration": 62,
    "start_time": "2023-02-17T14:42:49.422Z"
   },
   {
    "duration": 14,
    "start_time": "2023-02-17T14:42:49.486Z"
   },
   {
    "duration": 49,
    "start_time": "2023-02-17T14:42:49.502Z"
   },
   {
    "duration": 20,
    "start_time": "2023-02-17T14:42:49.553Z"
   },
   {
    "duration": 8,
    "start_time": "2023-02-17T14:42:49.574Z"
   },
   {
    "duration": 17,
    "start_time": "2023-02-17T14:42:49.583Z"
   },
   {
    "duration": 11,
    "start_time": "2023-02-17T14:42:49.603Z"
   },
   {
    "duration": 15,
    "start_time": "2023-02-17T14:42:49.616Z"
   },
   {
    "duration": 94,
    "start_time": "2023-02-17T14:43:45.277Z"
   },
   {
    "duration": 3,
    "start_time": "2023-02-17T14:43:59.594Z"
   },
   {
    "duration": 3,
    "start_time": "2023-02-17T14:44:39.921Z"
   },
   {
    "duration": 58,
    "start_time": "2023-02-17T14:44:39.930Z"
   },
   {
    "duration": 19,
    "start_time": "2023-02-17T14:44:39.989Z"
   },
   {
    "duration": 5,
    "start_time": "2023-02-17T14:44:40.010Z"
   },
   {
    "duration": 23,
    "start_time": "2023-02-17T14:44:40.017Z"
   },
   {
    "duration": 8,
    "start_time": "2023-02-17T14:44:40.043Z"
   },
   {
    "duration": 4,
    "start_time": "2023-02-17T14:44:40.053Z"
   },
   {
    "duration": 18,
    "start_time": "2023-02-17T14:44:40.058Z"
   },
   {
    "duration": 12,
    "start_time": "2023-02-17T14:44:40.077Z"
   },
   {
    "duration": 5,
    "start_time": "2023-02-17T14:44:40.091Z"
   },
   {
    "duration": 1107,
    "start_time": "2023-02-18T05:19:18.933Z"
   },
   {
    "duration": 104,
    "start_time": "2023-02-18T05:19:20.042Z"
   },
   {
    "duration": 12,
    "start_time": "2023-02-18T05:19:20.147Z"
   },
   {
    "duration": 4,
    "start_time": "2023-02-18T05:19:20.161Z"
   },
   {
    "duration": 20,
    "start_time": "2023-02-18T05:19:20.167Z"
   },
   {
    "duration": 8,
    "start_time": "2023-02-18T05:19:20.189Z"
   },
   {
    "duration": 3,
    "start_time": "2023-02-18T05:19:20.199Z"
   },
   {
    "duration": 13,
    "start_time": "2023-02-18T05:19:20.204Z"
   },
   {
    "duration": 35,
    "start_time": "2023-02-18T05:19:20.219Z"
   },
   {
    "duration": 5,
    "start_time": "2023-02-18T05:19:20.257Z"
   },
   {
    "duration": 9,
    "start_time": "2023-02-18T05:26:11.252Z"
   },
   {
    "duration": 98,
    "start_time": "2023-02-18T05:40:04.794Z"
   },
   {
    "duration": 5,
    "start_time": "2023-02-18T05:40:09.706Z"
   },
   {
    "duration": 13,
    "start_time": "2023-02-18T05:40:17.792Z"
   },
   {
    "duration": 5,
    "start_time": "2023-02-18T05:40:25.691Z"
   },
   {
    "duration": 4,
    "start_time": "2023-02-18T05:41:07.161Z"
   },
   {
    "duration": 14,
    "start_time": "2023-02-18T05:42:18.052Z"
   },
   {
    "duration": 6,
    "start_time": "2023-02-18T05:43:09.940Z"
   },
   {
    "duration": 4,
    "start_time": "2023-02-18T05:46:57.214Z"
   },
   {
    "duration": 8,
    "start_time": "2023-02-18T05:47:20.210Z"
   },
   {
    "duration": 41,
    "start_time": "2023-02-18T06:01:01.885Z"
   },
   {
    "duration": 15,
    "start_time": "2023-02-18T06:01:11.226Z"
   },
   {
    "duration": 3,
    "start_time": "2023-02-18T06:04:48.368Z"
   },
   {
    "duration": 73,
    "start_time": "2023-02-18T06:06:23.290Z"
   },
   {
    "duration": 24,
    "start_time": "2023-02-18T06:06:31.035Z"
   },
   {
    "duration": 4,
    "start_time": "2023-02-18T06:25:28.118Z"
   },
   {
    "duration": 254,
    "start_time": "2023-02-18T06:26:37.022Z"
   },
   {
    "duration": 291,
    "start_time": "2023-02-18T06:26:38.575Z"
   },
   {
    "duration": 8,
    "start_time": "2023-02-18T06:32:52.640Z"
   },
   {
    "duration": 19,
    "start_time": "2023-02-18T06:53:46.558Z"
   },
   {
    "duration": 30,
    "start_time": "2023-02-18T06:54:04.794Z"
   },
   {
    "duration": 16,
    "start_time": "2023-02-18T06:55:52.603Z"
   },
   {
    "duration": 22,
    "start_time": "2023-02-18T06:56:46.565Z"
   },
   {
    "duration": 80,
    "start_time": "2023-02-18T06:57:10.891Z"
   },
   {
    "duration": 4,
    "start_time": "2023-02-18T06:57:39.969Z"
   },
   {
    "duration": 72,
    "start_time": "2023-02-18T06:57:39.976Z"
   },
   {
    "duration": 27,
    "start_time": "2023-02-18T06:57:40.050Z"
   },
   {
    "duration": 5,
    "start_time": "2023-02-18T06:57:40.079Z"
   },
   {
    "duration": 38,
    "start_time": "2023-02-18T06:57:40.086Z"
   },
   {
    "duration": 8,
    "start_time": "2023-02-18T06:57:40.126Z"
   },
   {
    "duration": 6,
    "start_time": "2023-02-18T06:57:40.136Z"
   },
   {
    "duration": 21,
    "start_time": "2023-02-18T06:57:40.144Z"
   },
   {
    "duration": 19,
    "start_time": "2023-02-18T06:57:40.168Z"
   },
   {
    "duration": 171,
    "start_time": "2023-02-18T06:57:40.189Z"
   },
   {
    "duration": 115,
    "start_time": "2023-02-18T06:57:40.368Z"
   },
   {
    "duration": 153,
    "start_time": "2023-02-18T06:57:40.566Z"
   },
   {
    "duration": 82,
    "start_time": "2023-02-18T06:58:45.187Z"
   },
   {
    "duration": 43,
    "start_time": "2023-02-18T06:58:59.519Z"
   },
   {
    "duration": 356,
    "start_time": "2023-02-18T06:59:42.267Z"
   },
   {
    "duration": 1125,
    "start_time": "2023-02-18T11:30:06.723Z"
   },
   {
    "duration": 194,
    "start_time": "2023-02-18T11:30:07.850Z"
   },
   {
    "duration": 12,
    "start_time": "2023-02-18T11:30:08.046Z"
   },
   {
    "duration": 5,
    "start_time": "2023-02-18T11:30:08.060Z"
   },
   {
    "duration": 20,
    "start_time": "2023-02-18T11:30:08.067Z"
   },
   {
    "duration": 17,
    "start_time": "2023-02-18T11:30:08.089Z"
   },
   {
    "duration": 4,
    "start_time": "2023-02-18T11:30:08.107Z"
   },
   {
    "duration": 14,
    "start_time": "2023-02-18T11:30:08.112Z"
   },
   {
    "duration": 7,
    "start_time": "2023-02-18T11:30:08.128Z"
   },
   {
    "duration": 168,
    "start_time": "2023-02-18T11:30:08.137Z"
   },
   {
    "duration": 103,
    "start_time": "2023-02-18T11:30:08.308Z"
   },
   {
    "duration": 484,
    "start_time": "2023-02-18T11:30:08.419Z"
   },
   {
    "duration": 103,
    "start_time": "2023-02-18T11:38:39.950Z"
   },
   {
    "duration": 1481,
    "start_time": "2023-02-18T11:38:51.907Z"
   },
   {
    "duration": 2976,
    "start_time": "2023-02-18T11:42:19.417Z"
   },
   {
    "duration": 3165,
    "start_time": "2023-02-18T11:42:47.086Z"
   },
   {
    "duration": 1034,
    "start_time": "2023-02-18T11:46:50.656Z"
   },
   {
    "duration": 63,
    "start_time": "2023-02-18T11:46:51.692Z"
   },
   {
    "duration": 13,
    "start_time": "2023-02-18T11:46:51.757Z"
   },
   {
    "duration": 4,
    "start_time": "2023-02-18T11:46:51.772Z"
   },
   {
    "duration": 26,
    "start_time": "2023-02-18T11:46:51.777Z"
   },
   {
    "duration": 7,
    "start_time": "2023-02-18T11:46:51.805Z"
   },
   {
    "duration": 9,
    "start_time": "2023-02-18T11:46:51.814Z"
   },
   {
    "duration": 9,
    "start_time": "2023-02-18T11:46:51.824Z"
   },
   {
    "duration": 7,
    "start_time": "2023-02-18T11:46:51.834Z"
   },
   {
    "duration": 163,
    "start_time": "2023-02-18T11:46:51.843Z"
   },
   {
    "duration": 297,
    "start_time": "2023-02-18T11:46:52.008Z"
   },
   {
    "duration": 0,
    "start_time": "2023-02-18T11:46:52.307Z"
   },
   {
    "duration": 0,
    "start_time": "2023-02-18T11:46:52.308Z"
   },
   {
    "duration": 0,
    "start_time": "2023-02-18T11:46:52.308Z"
   },
   {
    "duration": 0,
    "start_time": "2023-02-18T11:46:52.309Z"
   },
   {
    "duration": 1033,
    "start_time": "2023-02-18T11:49:02.465Z"
   },
   {
    "duration": 62,
    "start_time": "2023-02-18T11:49:03.500Z"
   },
   {
    "duration": 13,
    "start_time": "2023-02-18T11:49:03.563Z"
   },
   {
    "duration": 4,
    "start_time": "2023-02-18T11:49:03.577Z"
   },
   {
    "duration": 20,
    "start_time": "2023-02-18T11:49:03.583Z"
   },
   {
    "duration": 7,
    "start_time": "2023-02-18T11:49:03.605Z"
   },
   {
    "duration": 8,
    "start_time": "2023-02-18T11:49:03.613Z"
   },
   {
    "duration": 11,
    "start_time": "2023-02-18T11:49:03.622Z"
   },
   {
    "duration": 6,
    "start_time": "2023-02-18T11:49:03.634Z"
   },
   {
    "duration": 166,
    "start_time": "2023-02-18T11:49:03.642Z"
   },
   {
    "duration": 99,
    "start_time": "2023-02-18T11:49:03.811Z"
   },
   {
    "duration": 492,
    "start_time": "2023-02-18T11:49:03.912Z"
   },
   {
    "duration": 1541,
    "start_time": "2023-02-18T11:49:04.405Z"
   },
   {
    "duration": 2999,
    "start_time": "2023-02-18T11:49:05.948Z"
   },
   {
    "duration": 100,
    "start_time": "2023-02-18T11:49:08.948Z"
   },
   {
    "duration": 3,
    "start_time": "2023-02-18T11:51:00.303Z"
   },
   {
    "duration": 78,
    "start_time": "2023-02-18T11:51:00.311Z"
   },
   {
    "duration": 12,
    "start_time": "2023-02-18T11:51:00.391Z"
   },
   {
    "duration": 10,
    "start_time": "2023-02-18T11:51:00.405Z"
   },
   {
    "duration": 42,
    "start_time": "2023-02-18T11:51:00.416Z"
   },
   {
    "duration": 9,
    "start_time": "2023-02-18T11:51:00.461Z"
   },
   {
    "duration": 11,
    "start_time": "2023-02-18T11:51:00.472Z"
   },
   {
    "duration": 34,
    "start_time": "2023-02-18T11:51:00.484Z"
   },
   {
    "duration": 33,
    "start_time": "2023-02-18T11:51:00.520Z"
   },
   {
    "duration": 151,
    "start_time": "2023-02-18T11:51:00.555Z"
   },
   {
    "duration": 106,
    "start_time": "2023-02-18T11:51:00.707Z"
   },
   {
    "duration": 510,
    "start_time": "2023-02-18T11:51:00.815Z"
   },
   {
    "duration": 1487,
    "start_time": "2023-02-18T11:51:01.326Z"
   },
   {
    "duration": 3036,
    "start_time": "2023-02-18T11:51:02.815Z"
   },
   {
    "duration": 13,
    "start_time": "2023-02-18T11:51:05.854Z"
   },
   {
    "duration": 2968,
    "start_time": "2023-02-18T11:51:57.011Z"
   },
   {
    "duration": 14,
    "start_time": "2023-02-18T11:52:02.968Z"
   },
   {
    "duration": 171,
    "start_time": "2023-02-18T12:09:40.235Z"
   },
   {
    "duration": 9,
    "start_time": "2023-02-18T12:10:22.003Z"
   },
   {
    "duration": 470,
    "start_time": "2023-02-18T12:13:58.179Z"
   },
   {
    "duration": 2298,
    "start_time": "2023-02-18T12:18:34.262Z"
   },
   {
    "duration": 3585,
    "start_time": "2023-02-18T12:19:40.926Z"
   },
   {
    "duration": 2259,
    "start_time": "2023-02-18T12:19:49.559Z"
   },
   {
    "duration": 2269,
    "start_time": "2023-02-18T12:20:12.407Z"
   },
   {
    "duration": 15747,
    "start_time": "2023-02-18T12:23:44.804Z"
   },
   {
    "duration": 16,
    "start_time": "2023-02-18T12:25:15.828Z"
   },
   {
    "duration": 1225,
    "start_time": "2023-02-18T12:49:26.227Z"
   },
   {
    "duration": 73,
    "start_time": "2023-02-18T12:49:27.455Z"
   },
   {
    "duration": 13,
    "start_time": "2023-02-18T12:49:27.530Z"
   },
   {
    "duration": 6,
    "start_time": "2023-02-18T12:49:27.546Z"
   },
   {
    "duration": 22,
    "start_time": "2023-02-18T12:49:27.555Z"
   },
   {
    "duration": 29,
    "start_time": "2023-02-18T12:49:27.579Z"
   },
   {
    "duration": 4,
    "start_time": "2023-02-18T12:49:27.611Z"
   },
   {
    "duration": 26,
    "start_time": "2023-02-18T12:49:27.617Z"
   },
   {
    "duration": 8,
    "start_time": "2023-02-18T12:49:27.645Z"
   },
   {
    "duration": 162,
    "start_time": "2023-02-18T12:49:27.656Z"
   },
   {
    "duration": 107,
    "start_time": "2023-02-18T12:49:27.905Z"
   },
   {
    "duration": 563,
    "start_time": "2023-02-18T12:49:28.015Z"
   },
   {
    "duration": 1697,
    "start_time": "2023-02-18T12:49:28.580Z"
   },
   {
    "duration": 3552,
    "start_time": "2023-02-18T12:49:30.279Z"
   },
   {
    "duration": 18,
    "start_time": "2023-02-18T12:49:33.832Z"
   },
   {
    "duration": 159,
    "start_time": "2023-02-18T12:49:33.851Z"
   },
   {
    "duration": 101,
    "start_time": "2023-02-18T12:49:34.012Z"
   },
   {
    "duration": 615,
    "start_time": "2023-02-18T12:49:34.115Z"
   },
   {
    "duration": 2515,
    "start_time": "2023-02-18T12:49:34.732Z"
   },
   {
    "duration": 17171,
    "start_time": "2023-02-18T12:49:37.249Z"
   },
   {
    "duration": 24,
    "start_time": "2023-02-18T12:49:54.422Z"
   },
   {
    "duration": 1115,
    "start_time": "2023-02-18T12:54:05.471Z"
   },
   {
    "duration": 66,
    "start_time": "2023-02-18T12:54:06.588Z"
   },
   {
    "duration": 22,
    "start_time": "2023-02-18T12:54:06.656Z"
   },
   {
    "duration": 7,
    "start_time": "2023-02-18T12:54:06.682Z"
   },
   {
    "duration": 39,
    "start_time": "2023-02-18T12:54:06.691Z"
   },
   {
    "duration": 12,
    "start_time": "2023-02-18T12:54:06.733Z"
   },
   {
    "duration": 19,
    "start_time": "2023-02-18T12:54:06.748Z"
   },
   {
    "duration": 45,
    "start_time": "2023-02-18T12:54:06.769Z"
   },
   {
    "duration": 17,
    "start_time": "2023-02-18T12:54:06.817Z"
   },
   {
    "duration": 467,
    "start_time": "2023-02-18T12:54:06.838Z"
   },
   {
    "duration": 100,
    "start_time": "2023-02-18T12:54:07.310Z"
   },
   {
    "duration": 427,
    "start_time": "2023-02-18T12:54:07.412Z"
   },
   {
    "duration": 1603,
    "start_time": "2023-02-18T12:54:07.840Z"
   },
   {
    "duration": 3538,
    "start_time": "2023-02-18T12:54:09.446Z"
   },
   {
    "duration": 21,
    "start_time": "2023-02-18T12:54:12.986Z"
   },
   {
    "duration": 402,
    "start_time": "2023-02-18T12:54:13.009Z"
   },
   {
    "duration": 99,
    "start_time": "2023-02-18T12:54:13.414Z"
   },
   {
    "duration": 683,
    "start_time": "2023-02-18T12:54:13.515Z"
   },
   {
    "duration": 2322,
    "start_time": "2023-02-18T12:54:14.203Z"
   },
   {
    "duration": 16891,
    "start_time": "2023-02-18T12:54:16.527Z"
   },
   {
    "duration": 23,
    "start_time": "2023-02-18T12:54:33.420Z"
   },
   {
    "duration": 2972,
    "start_time": "2023-02-18T13:16:58.205Z"
   },
   {
    "duration": 2764,
    "start_time": "2023-02-18T13:17:17.325Z"
   },
   {
    "duration": 33,
    "start_time": "2023-02-18T13:30:49.673Z"
   },
   {
    "duration": 1096,
    "start_time": "2023-02-18T13:34:26.260Z"
   },
   {
    "duration": 63,
    "start_time": "2023-02-18T13:34:27.358Z"
   },
   {
    "duration": 12,
    "start_time": "2023-02-18T13:34:27.423Z"
   },
   {
    "duration": 5,
    "start_time": "2023-02-18T13:34:27.437Z"
   },
   {
    "duration": 19,
    "start_time": "2023-02-18T13:34:27.444Z"
   },
   {
    "duration": 8,
    "start_time": "2023-02-18T13:34:27.465Z"
   },
   {
    "duration": 31,
    "start_time": "2023-02-18T13:34:27.474Z"
   },
   {
    "duration": 25,
    "start_time": "2023-02-18T13:34:27.506Z"
   },
   {
    "duration": 6,
    "start_time": "2023-02-18T13:34:27.533Z"
   },
   {
    "duration": 264,
    "start_time": "2023-02-18T13:34:27.541Z"
   },
   {
    "duration": 102,
    "start_time": "2023-02-18T13:34:27.807Z"
   },
   {
    "duration": 472,
    "start_time": "2023-02-18T13:34:27.912Z"
   },
   {
    "duration": 1507,
    "start_time": "2023-02-18T13:34:28.385Z"
   },
   {
    "duration": 3301,
    "start_time": "2023-02-18T13:34:29.894Z"
   },
   {
    "duration": 22,
    "start_time": "2023-02-18T13:34:33.196Z"
   },
   {
    "duration": 98,
    "start_time": "2023-02-18T13:34:33.220Z"
   },
   {
    "duration": 96,
    "start_time": "2023-02-18T13:34:33.408Z"
   },
   {
    "duration": 560,
    "start_time": "2023-02-18T13:34:33.507Z"
   },
   {
    "duration": 2271,
    "start_time": "2023-02-18T13:34:34.068Z"
   },
   {
    "duration": 2783,
    "start_time": "2023-02-18T13:34:36.341Z"
   },
   {
    "duration": 40,
    "start_time": "2023-02-18T13:34:39.126Z"
   },
   {
    "duration": 2227,
    "start_time": "2023-02-18T13:37:39.257Z"
   },
   {
    "duration": 5282,
    "start_time": "2023-02-18T13:37:44.290Z"
   },
   {
    "duration": 73,
    "start_time": "2023-02-18T13:38:14.420Z"
   },
   {
    "duration": 5,
    "start_time": "2023-02-18T13:43:52.965Z"
   },
   {
    "duration": 7,
    "start_time": "2023-02-18T13:46:04.319Z"
   },
   {
    "duration": 38,
    "start_time": "2023-02-18T13:47:47.552Z"
   },
   {
    "duration": 4,
    "start_time": "2023-02-18T13:48:07.565Z"
   },
   {
    "duration": 49,
    "start_time": "2023-02-18T13:56:15.962Z"
   },
   {
    "duration": 4,
    "start_time": "2023-02-18T13:56:36.433Z"
   },
   {
    "duration": 41,
    "start_time": "2023-02-18T13:56:45.768Z"
   },
   {
    "duration": 5,
    "start_time": "2023-02-18T13:56:47.502Z"
   },
   {
    "duration": 1062,
    "start_time": "2023-02-18T14:05:22.423Z"
   },
   {
    "duration": 66,
    "start_time": "2023-02-18T14:05:23.487Z"
   },
   {
    "duration": 13,
    "start_time": "2023-02-18T14:05:23.555Z"
   },
   {
    "duration": 5,
    "start_time": "2023-02-18T14:05:23.569Z"
   },
   {
    "duration": 28,
    "start_time": "2023-02-18T14:05:23.576Z"
   },
   {
    "duration": 8,
    "start_time": "2023-02-18T14:05:23.605Z"
   },
   {
    "duration": 10,
    "start_time": "2023-02-18T14:05:23.614Z"
   },
   {
    "duration": 41,
    "start_time": "2023-02-18T14:05:23.626Z"
   },
   {
    "duration": 8,
    "start_time": "2023-02-18T14:05:23.668Z"
   },
   {
    "duration": 235,
    "start_time": "2023-02-18T14:05:23.677Z"
   },
   {
    "duration": 96,
    "start_time": "2023-02-18T14:05:23.914Z"
   },
   {
    "duration": 506,
    "start_time": "2023-02-18T14:05:24.012Z"
   },
   {
    "duration": 1546,
    "start_time": "2023-02-18T14:05:24.520Z"
   },
   {
    "duration": 3333,
    "start_time": "2023-02-18T14:05:26.068Z"
   },
   {
    "duration": 16,
    "start_time": "2023-02-18T14:05:29.402Z"
   },
   {
    "duration": 189,
    "start_time": "2023-02-18T14:05:29.420Z"
   },
   {
    "duration": 192,
    "start_time": "2023-02-18T14:05:29.611Z"
   },
   {
    "duration": 523,
    "start_time": "2023-02-18T14:05:29.805Z"
   },
   {
    "duration": 2285,
    "start_time": "2023-02-18T14:05:30.330Z"
   },
   {
    "duration": 5470,
    "start_time": "2023-02-18T14:05:32.616Z"
   },
   {
    "duration": 81,
    "start_time": "2023-02-18T14:05:38.088Z"
   },
   {
    "duration": 46,
    "start_time": "2023-02-18T14:05:38.171Z"
   },
   {
    "duration": 5,
    "start_time": "2023-02-18T14:05:38.219Z"
   },
   {
    "duration": 1160,
    "start_time": "2023-02-19T13:26:39.064Z"
   },
   {
    "duration": 103,
    "start_time": "2023-02-19T13:26:40.226Z"
   },
   {
    "duration": 12,
    "start_time": "2023-02-19T13:26:40.331Z"
   },
   {
    "duration": 6,
    "start_time": "2023-02-19T13:26:40.345Z"
   },
   {
    "duration": 26,
    "start_time": "2023-02-19T13:26:40.353Z"
   },
   {
    "duration": 26,
    "start_time": "2023-02-19T13:26:40.380Z"
   },
   {
    "duration": 17,
    "start_time": "2023-02-19T13:26:40.407Z"
   },
   {
    "duration": 30,
    "start_time": "2023-02-19T13:26:40.426Z"
   },
   {
    "duration": 7,
    "start_time": "2023-02-19T13:26:40.458Z"
   },
   {
    "duration": 126,
    "start_time": "2023-02-19T13:26:40.468Z"
   },
   {
    "duration": 99,
    "start_time": "2023-02-19T13:26:40.595Z"
   },
   {
    "duration": 395,
    "start_time": "2023-02-19T13:26:40.788Z"
   },
   {
    "duration": 1383,
    "start_time": "2023-02-19T13:26:41.186Z"
   },
   {
    "duration": 3064,
    "start_time": "2023-02-19T13:26:42.570Z"
   },
   {
    "duration": 15,
    "start_time": "2023-02-19T13:26:45.635Z"
   },
   {
    "duration": 143,
    "start_time": "2023-02-19T13:26:45.651Z"
   },
   {
    "duration": 9,
    "start_time": "2023-02-19T13:26:45.887Z"
   },
   {
    "duration": 524,
    "start_time": "2023-02-19T13:26:45.987Z"
   },
   {
    "duration": 2097,
    "start_time": "2023-02-19T13:26:46.512Z"
   },
   {
    "duration": 4969,
    "start_time": "2023-02-19T13:26:48.610Z"
   },
   {
    "duration": 72,
    "start_time": "2023-02-19T13:26:53.580Z"
   },
   {
    "duration": 48,
    "start_time": "2023-02-19T13:26:53.654Z"
   },
   {
    "duration": 5,
    "start_time": "2023-02-19T13:26:53.704Z"
   },
   {
    "duration": 1506,
    "start_time": "2023-02-20T07:43:33.494Z"
   },
   {
    "duration": 4,
    "start_time": "2023-02-20T07:58:33.152Z"
   },
   {
    "duration": 248,
    "start_time": "2023-02-20T07:58:33.163Z"
   },
   {
    "duration": 15,
    "start_time": "2023-02-20T07:58:33.414Z"
   },
   {
    "duration": 6,
    "start_time": "2023-02-20T07:58:33.430Z"
   },
   {
    "duration": 42,
    "start_time": "2023-02-20T07:58:33.438Z"
   },
   {
    "duration": 21,
    "start_time": "2023-02-20T07:58:33.487Z"
   },
   {
    "duration": 9,
    "start_time": "2023-02-20T07:58:33.510Z"
   },
   {
    "duration": 4,
    "start_time": "2023-02-20T07:58:45.810Z"
   },
   {
    "duration": 5,
    "start_time": "2023-02-20T08:01:56.627Z"
   },
   {
    "duration": 13,
    "start_time": "2023-02-20T08:02:48.882Z"
   },
   {
    "duration": 8,
    "start_time": "2023-02-20T08:03:09.324Z"
   },
   {
    "duration": 8,
    "start_time": "2023-02-20T08:03:16.696Z"
   },
   {
    "duration": 8,
    "start_time": "2023-02-20T08:03:22.495Z"
   },
   {
    "duration": 10,
    "start_time": "2023-02-20T08:04:36.900Z"
   },
   {
    "duration": 2112,
    "start_time": "2023-02-20T08:28:47.460Z"
   },
   {
    "duration": 110,
    "start_time": "2023-02-20T08:28:49.577Z"
   },
   {
    "duration": 24,
    "start_time": "2023-02-20T08:28:49.700Z"
   },
   {
    "duration": 8,
    "start_time": "2023-02-20T08:28:49.728Z"
   },
   {
    "duration": 25,
    "start_time": "2023-02-20T08:28:49.740Z"
   },
   {
    "duration": 16,
    "start_time": "2023-02-20T08:28:49.767Z"
   },
   {
    "duration": 54,
    "start_time": "2023-02-20T08:28:49.785Z"
   },
   {
    "duration": 4,
    "start_time": "2023-02-20T08:28:49.840Z"
   },
   {
    "duration": 44,
    "start_time": "2023-02-20T08:28:49.846Z"
   },
   {
    "duration": 16,
    "start_time": "2023-02-20T08:28:49.892Z"
   },
   {
    "duration": 158,
    "start_time": "2023-02-20T08:28:49.916Z"
   },
   {
    "duration": 93,
    "start_time": "2023-02-20T08:28:50.082Z"
   },
   {
    "duration": 496,
    "start_time": "2023-02-20T08:28:50.199Z"
   },
   {
    "duration": 48310,
    "start_time": "2023-02-20T08:28:50.702Z"
   },
   {
    "duration": 39,
    "start_time": "2023-02-20T08:29:39.014Z"
   },
   {
    "duration": 1222,
    "start_time": "2023-02-20T08:37:56.903Z"
   },
   {
    "duration": 81,
    "start_time": "2023-02-20T08:37:58.126Z"
   },
   {
    "duration": 19,
    "start_time": "2023-02-20T08:37:58.209Z"
   },
   {
    "duration": 5,
    "start_time": "2023-02-20T08:37:58.231Z"
   },
   {
    "duration": 44,
    "start_time": "2023-02-20T08:37:58.238Z"
   },
   {
    "duration": 18,
    "start_time": "2023-02-20T08:37:58.284Z"
   },
   {
    "duration": 15,
    "start_time": "2023-02-20T08:37:58.304Z"
   },
   {
    "duration": 8,
    "start_time": "2023-02-20T08:37:58.320Z"
   },
   {
    "duration": 53,
    "start_time": "2023-02-20T08:37:58.330Z"
   },
   {
    "duration": 8,
    "start_time": "2023-02-20T08:37:58.386Z"
   },
   {
    "duration": 377,
    "start_time": "2023-02-20T08:37:58.396Z"
   },
   {
    "duration": 98,
    "start_time": "2023-02-20T08:37:58.777Z"
   },
   {
    "duration": 463,
    "start_time": "2023-02-20T08:37:58.879Z"
   },
   {
    "duration": 46190,
    "start_time": "2023-02-20T08:37:59.344Z"
   },
   {
    "duration": 56,
    "start_time": "2023-02-20T08:38:45.537Z"
   },
   {
    "duration": 284,
    "start_time": "2023-02-20T08:38:45.595Z"
   },
   {
    "duration": 95,
    "start_time": "2023-02-20T08:38:45.881Z"
   },
   {
    "duration": 678,
    "start_time": "2023-02-20T08:38:45.978Z"
   },
   {
    "duration": 122649,
    "start_time": "2023-02-20T08:38:46.658Z"
   },
   {
    "duration": 115125,
    "start_time": "2023-02-20T08:42:42.404Z"
   },
   {
    "duration": 3,
    "start_time": "2023-02-20T09:03:50.584Z"
   },
   {
    "duration": 65,
    "start_time": "2023-02-20T09:03:50.593Z"
   },
   {
    "duration": 18,
    "start_time": "2023-02-20T09:03:50.660Z"
   },
   {
    "duration": 21,
    "start_time": "2023-02-20T09:03:50.680Z"
   },
   {
    "duration": 19,
    "start_time": "2023-02-20T09:03:50.703Z"
   },
   {
    "duration": 13,
    "start_time": "2023-02-20T09:03:50.725Z"
   },
   {
    "duration": 9,
    "start_time": "2023-02-20T09:03:50.740Z"
   },
   {
    "duration": 4,
    "start_time": "2023-02-20T09:03:50.768Z"
   },
   {
    "duration": 65,
    "start_time": "2023-02-20T09:03:50.774Z"
   },
   {
    "duration": 7,
    "start_time": "2023-02-20T09:03:50.842Z"
   },
   {
    "duration": 1027,
    "start_time": "2023-02-20T09:03:50.850Z"
   },
   {
    "duration": 97,
    "start_time": "2023-02-20T09:03:51.882Z"
   },
   {
    "duration": 472,
    "start_time": "2023-02-20T09:03:51.984Z"
   },
   {
    "duration": 47834,
    "start_time": "2023-02-20T09:03:52.458Z"
   },
   {
    "duration": 37,
    "start_time": "2023-02-20T09:04:40.296Z"
   },
   {
    "duration": 250,
    "start_time": "2023-02-20T09:04:40.335Z"
   },
   {
    "duration": 181,
    "start_time": "2023-02-20T09:04:40.593Z"
   },
   {
    "duration": 135953,
    "start_time": "2023-02-20T09:04:40.780Z"
   },
   {
    "duration": 102,
    "start_time": "2023-02-20T09:06:56.735Z"
   },
   {
    "duration": 48,
    "start_time": "2023-02-20T09:06:56.840Z"
   },
   {
    "duration": 12,
    "start_time": "2023-02-20T09:06:56.892Z"
   },
   {
    "duration": 135646,
    "start_time": "2023-02-20T09:08:03.600Z"
   },
   {
    "duration": 47,
    "start_time": "2023-02-20T09:11:27.166Z"
   },
   {
    "duration": 484,
    "start_time": "2023-02-20T09:14:56.128Z"
   },
   {
    "duration": 679,
    "start_time": "2023-02-20T09:15:24.168Z"
   },
   {
    "duration": 709,
    "start_time": "2023-02-20T09:16:56.491Z"
   },
   {
    "duration": 353,
    "start_time": "2023-02-20T09:21:10.758Z"
   },
   {
    "duration": 534,
    "start_time": "2023-02-20T09:21:28.565Z"
   },
   {
    "duration": 533,
    "start_time": "2023-02-20T09:21:33.996Z"
   },
   {
    "duration": 596,
    "start_time": "2023-02-20T09:21:50.829Z"
   },
   {
    "duration": 585,
    "start_time": "2023-02-20T09:21:55.196Z"
   },
   {
    "duration": 561,
    "start_time": "2023-02-20T09:22:01.888Z"
   },
   {
    "duration": 619,
    "start_time": "2023-02-20T09:24:06.489Z"
   },
   {
    "duration": 553,
    "start_time": "2023-02-20T09:24:32.087Z"
   },
   {
    "duration": 671,
    "start_time": "2023-02-20T09:24:42.064Z"
   },
   {
    "duration": 136,
    "start_time": "2023-02-20T09:24:52.399Z"
   },
   {
    "duration": 638,
    "start_time": "2023-02-20T09:25:09.389Z"
   },
   {
    "duration": 395,
    "start_time": "2023-02-20T09:35:16.821Z"
   },
   {
    "duration": 48351,
    "start_time": "2023-02-20T09:35:39.594Z"
   },
   {
    "duration": 29,
    "start_time": "2023-02-20T09:37:14.329Z"
   },
   {
    "duration": 1002,
    "start_time": "2023-02-20T10:51:33.418Z"
   },
   {
    "duration": 200,
    "start_time": "2023-02-20T10:51:34.422Z"
   },
   {
    "duration": 16,
    "start_time": "2023-02-20T10:51:34.624Z"
   },
   {
    "duration": 5,
    "start_time": "2023-02-20T10:51:34.643Z"
   },
   {
    "duration": 33,
    "start_time": "2023-02-20T10:51:34.651Z"
   },
   {
    "duration": 14,
    "start_time": "2023-02-20T10:51:34.686Z"
   },
   {
    "duration": 12,
    "start_time": "2023-02-20T10:51:34.702Z"
   },
   {
    "duration": 37,
    "start_time": "2023-02-20T10:51:34.716Z"
   },
   {
    "duration": 38,
    "start_time": "2023-02-20T10:51:34.755Z"
   },
   {
    "duration": 8,
    "start_time": "2023-02-20T10:51:34.795Z"
   },
   {
    "duration": 158,
    "start_time": "2023-02-20T10:51:34.806Z"
   },
   {
    "duration": 100,
    "start_time": "2023-02-20T10:51:34.967Z"
   },
   {
    "duration": 474,
    "start_time": "2023-02-20T10:51:35.069Z"
   },
   {
    "duration": 37518,
    "start_time": "2023-02-20T10:51:35.546Z"
   },
   {
    "duration": 32,
    "start_time": "2023-02-20T10:52:13.065Z"
   },
   {
    "duration": 264,
    "start_time": "2023-02-20T10:52:13.098Z"
   },
   {
    "duration": 99,
    "start_time": "2023-02-20T10:52:13.364Z"
   },
   {
    "duration": 403,
    "start_time": "2023-02-20T10:52:13.466Z"
   },
   {
    "duration": 37750,
    "start_time": "2023-02-20T10:52:13.870Z"
   },
   {
    "duration": 20,
    "start_time": "2023-02-20T10:52:51.622Z"
   },
   {
    "duration": 46,
    "start_time": "2023-02-20T10:52:51.644Z"
   },
   {
    "duration": 18,
    "start_time": "2023-02-20T10:52:51.692Z"
   },
   {
    "duration": 5,
    "start_time": "2023-02-20T10:52:51.711Z"
   },
   {
    "duration": 4,
    "start_time": "2023-02-20T10:53:44.234Z"
   },
   {
    "duration": 5,
    "start_time": "2023-02-20T10:55:50.016Z"
   },
   {
    "duration": 103,
    "start_time": "2023-02-20T10:56:06.976Z"
   },
   {
    "duration": 3,
    "start_time": "2023-02-20T10:56:29.883Z"
   },
   {
    "duration": 15,
    "start_time": "2023-02-20T10:56:36.306Z"
   },
   {
    "duration": 221,
    "start_time": "2023-02-20T10:57:16.043Z"
   },
   {
    "duration": 280,
    "start_time": "2023-02-20T10:58:49.586Z"
   },
   {
    "duration": 10,
    "start_time": "2023-02-20T11:01:18.365Z"
   },
   {
    "duration": 11,
    "start_time": "2023-02-20T11:01:24.993Z"
   },
   {
    "duration": 139,
    "start_time": "2023-02-20T11:01:28.823Z"
   },
   {
    "duration": 383,
    "start_time": "2023-02-20T11:01:31.215Z"
   },
   {
    "duration": 50921,
    "start_time": "2023-02-20T11:04:51.821Z"
   },
   {
    "duration": 11,
    "start_time": "2023-02-20T11:13:21.785Z"
   },
   {
    "duration": 12,
    "start_time": "2023-02-20T11:13:36.774Z"
   },
   {
    "duration": 285,
    "start_time": "2023-02-20T11:15:13.588Z"
   },
   {
    "duration": 187,
    "start_time": "2023-02-20T11:19:02.139Z"
   },
   {
    "duration": 169,
    "start_time": "2023-02-20T11:19:31.333Z"
   },
   {
    "duration": 22908,
    "start_time": "2023-02-20T11:20:42.155Z"
   },
   {
    "duration": 1075,
    "start_time": "2023-02-20T11:24:55.566Z"
   },
   {
    "duration": 63,
    "start_time": "2023-02-20T11:24:56.642Z"
   },
   {
    "duration": 12,
    "start_time": "2023-02-20T11:24:56.707Z"
   },
   {
    "duration": 21,
    "start_time": "2023-02-20T11:24:56.721Z"
   },
   {
    "duration": 38,
    "start_time": "2023-02-20T11:24:56.743Z"
   },
   {
    "duration": 11,
    "start_time": "2023-02-20T11:24:56.783Z"
   },
   {
    "duration": 25,
    "start_time": "2023-02-20T11:24:56.795Z"
   },
   {
    "duration": 22,
    "start_time": "2023-02-20T11:24:56.821Z"
   },
   {
    "duration": 39,
    "start_time": "2023-02-20T11:24:56.844Z"
   },
   {
    "duration": 9,
    "start_time": "2023-02-20T11:24:56.885Z"
   },
   {
    "duration": 276,
    "start_time": "2023-02-20T11:24:56.896Z"
   },
   {
    "duration": 108,
    "start_time": "2023-02-20T11:24:57.262Z"
   },
   {
    "duration": 482,
    "start_time": "2023-02-20T11:24:57.372Z"
   },
   {
    "duration": 38397,
    "start_time": "2023-02-20T11:24:57.855Z"
   },
   {
    "duration": 38,
    "start_time": "2023-02-20T11:25:36.262Z"
   },
   {
    "duration": 165,
    "start_time": "2023-02-20T11:25:36.302Z"
   },
   {
    "duration": 100,
    "start_time": "2023-02-20T11:25:36.470Z"
   },
   {
    "duration": 450,
    "start_time": "2023-02-20T11:25:36.666Z"
   },
   {
    "duration": 37776,
    "start_time": "2023-02-20T11:25:37.118Z"
   },
   {
    "duration": 19,
    "start_time": "2023-02-20T11:26:14.896Z"
   },
   {
    "duration": 11,
    "start_time": "2023-02-20T11:26:14.916Z"
   },
   {
    "duration": 337,
    "start_time": "2023-02-20T11:26:14.929Z"
   },
   {
    "duration": 595,
    "start_time": "2023-02-20T11:26:15.269Z"
   },
   {
    "duration": 50598,
    "start_time": "2023-02-20T11:26:15.865Z"
   },
   {
    "duration": 12,
    "start_time": "2023-02-20T11:27:06.465Z"
   },
   {
    "duration": 283,
    "start_time": "2023-02-20T11:27:06.478Z"
   },
   {
    "duration": 252,
    "start_time": "2023-02-20T11:27:06.765Z"
   },
   {
    "duration": 22646,
    "start_time": "2023-02-20T11:27:07.020Z"
   },
   {
    "duration": 34,
    "start_time": "2023-02-20T11:27:29.667Z"
   },
   {
    "duration": 17,
    "start_time": "2023-02-20T11:27:29.702Z"
   },
   {
    "duration": 4,
    "start_time": "2023-02-20T11:27:29.720Z"
   },
   {
    "duration": 46,
    "start_time": "2023-02-20T11:36:14.578Z"
   },
   {
    "duration": 32,
    "start_time": "2023-02-20T11:37:27.307Z"
   },
   {
    "duration": 35,
    "start_time": "2023-02-20T11:37:41.290Z"
   },
   {
    "duration": 35,
    "start_time": "2023-02-20T11:38:27.008Z"
   },
   {
    "duration": 1045,
    "start_time": "2023-02-20T11:39:52.721Z"
   },
   {
    "duration": 66,
    "start_time": "2023-02-20T11:39:53.768Z"
   },
   {
    "duration": 12,
    "start_time": "2023-02-20T11:39:53.835Z"
   },
   {
    "duration": 14,
    "start_time": "2023-02-20T11:39:53.849Z"
   },
   {
    "duration": 46,
    "start_time": "2023-02-20T11:39:53.866Z"
   },
   {
    "duration": 11,
    "start_time": "2023-02-20T11:39:53.914Z"
   },
   {
    "duration": 7,
    "start_time": "2023-02-20T11:39:53.927Z"
   },
   {
    "duration": 11,
    "start_time": "2023-02-20T11:39:53.935Z"
   },
   {
    "duration": 40,
    "start_time": "2023-02-20T11:39:53.948Z"
   },
   {
    "duration": 10,
    "start_time": "2023-02-20T11:39:53.989Z"
   },
   {
    "duration": 176,
    "start_time": "2023-02-20T11:39:54.000Z"
   },
   {
    "duration": 117,
    "start_time": "2023-02-20T11:39:54.264Z"
   },
   {
    "duration": 435,
    "start_time": "2023-02-20T11:39:54.461Z"
   },
   {
    "duration": 40988,
    "start_time": "2023-02-20T11:39:54.900Z"
   },
   {
    "duration": 32,
    "start_time": "2023-02-20T11:40:35.890Z"
   },
   {
    "duration": 264,
    "start_time": "2023-02-20T11:40:35.924Z"
   },
   {
    "duration": 77,
    "start_time": "2023-02-20T11:40:36.190Z"
   },
   {
    "duration": 480,
    "start_time": "2023-02-20T11:40:36.269Z"
   },
   {
    "duration": 40742,
    "start_time": "2023-02-20T11:40:36.750Z"
   },
   {
    "duration": 19,
    "start_time": "2023-02-20T11:41:17.494Z"
   },
   {
    "duration": 12,
    "start_time": "2023-02-20T11:41:17.514Z"
   },
   {
    "duration": 236,
    "start_time": "2023-02-20T11:41:17.528Z"
   },
   {
    "duration": 489,
    "start_time": "2023-02-20T11:41:17.766Z"
   },
   {
    "duration": 55411,
    "start_time": "2023-02-20T11:41:18.260Z"
   },
   {
    "duration": 18,
    "start_time": "2023-02-20T11:42:13.673Z"
   },
   {
    "duration": 273,
    "start_time": "2023-02-20T11:42:13.693Z"
   },
   {
    "duration": 292,
    "start_time": "2023-02-20T11:42:13.970Z"
   },
   {
    "duration": 24115,
    "start_time": "2023-02-20T11:42:14.266Z"
   },
   {
    "duration": 35,
    "start_time": "2023-02-20T11:42:38.383Z"
   },
   {
    "duration": 1184,
    "start_time": "2023-04-16T13:19:16.377Z"
   },
   {
    "duration": 120,
    "start_time": "2023-04-16T13:19:17.563Z"
   },
   {
    "duration": 0,
    "start_time": "2023-04-16T13:19:17.686Z"
   },
   {
    "duration": 0,
    "start_time": "2023-04-16T13:19:17.688Z"
   },
   {
    "duration": 0,
    "start_time": "2023-04-16T13:19:17.689Z"
   },
   {
    "duration": 0,
    "start_time": "2023-04-16T13:19:17.690Z"
   },
   {
    "duration": 0,
    "start_time": "2023-04-16T13:19:17.691Z"
   },
   {
    "duration": 0,
    "start_time": "2023-04-16T13:19:17.693Z"
   },
   {
    "duration": 0,
    "start_time": "2023-04-16T13:19:17.694Z"
   },
   {
    "duration": 0,
    "start_time": "2023-04-16T13:19:17.695Z"
   },
   {
    "duration": 0,
    "start_time": "2023-04-16T13:19:17.697Z"
   },
   {
    "duration": 0,
    "start_time": "2023-04-16T13:19:17.698Z"
   },
   {
    "duration": 0,
    "start_time": "2023-04-16T13:19:17.699Z"
   },
   {
    "duration": 0,
    "start_time": "2023-04-16T13:19:17.700Z"
   },
   {
    "duration": 0,
    "start_time": "2023-04-16T13:19:17.701Z"
   },
   {
    "duration": 0,
    "start_time": "2023-04-16T13:19:17.703Z"
   },
   {
    "duration": 0,
    "start_time": "2023-04-16T13:19:17.704Z"
   },
   {
    "duration": 0,
    "start_time": "2023-04-16T13:19:17.705Z"
   },
   {
    "duration": 0,
    "start_time": "2023-04-16T13:19:17.706Z"
   },
   {
    "duration": 0,
    "start_time": "2023-04-16T13:19:17.707Z"
   },
   {
    "duration": 0,
    "start_time": "2023-04-16T13:19:17.708Z"
   },
   {
    "duration": 0,
    "start_time": "2023-04-16T13:19:17.709Z"
   },
   {
    "duration": 0,
    "start_time": "2023-04-16T13:19:17.711Z"
   },
   {
    "duration": 1,
    "start_time": "2023-04-16T13:19:17.712Z"
   },
   {
    "duration": 0,
    "start_time": "2023-04-16T13:19:17.714Z"
   },
   {
    "duration": 0,
    "start_time": "2023-04-16T13:19:17.715Z"
   },
   {
    "duration": 0,
    "start_time": "2023-04-16T13:19:17.717Z"
   },
   {
    "duration": 0,
    "start_time": "2023-04-16T13:19:17.718Z"
   },
   {
    "duration": 0,
    "start_time": "2023-04-16T13:19:17.719Z"
   },
   {
    "duration": 3,
    "start_time": "2023-04-16T13:24:31.098Z"
   },
   {
    "duration": 127,
    "start_time": "2023-04-16T13:24:31.103Z"
   },
   {
    "duration": 17,
    "start_time": "2023-04-16T13:24:31.232Z"
   },
   {
    "duration": 34,
    "start_time": "2023-04-16T13:24:31.251Z"
   },
   {
    "duration": 39,
    "start_time": "2023-04-16T13:24:31.288Z"
   },
   {
    "duration": 14,
    "start_time": "2023-04-16T13:24:31.328Z"
   },
   {
    "duration": 32,
    "start_time": "2023-04-16T13:24:31.344Z"
   },
   {
    "duration": 33,
    "start_time": "2023-04-16T13:24:31.378Z"
   },
   {
    "duration": 73,
    "start_time": "2023-04-16T13:24:31.412Z"
   },
   {
    "duration": 20,
    "start_time": "2023-04-16T13:24:31.487Z"
   },
   {
    "duration": 78,
    "start_time": "2023-04-16T13:24:31.508Z"
   },
   {
    "duration": 106,
    "start_time": "2023-04-16T13:24:31.672Z"
   },
   {
    "duration": 519,
    "start_time": "2023-04-16T13:24:31.781Z"
   },
   {
    "duration": 40475,
    "start_time": "2023-04-16T13:24:32.302Z"
   },
   {
    "duration": 35,
    "start_time": "2023-04-16T13:25:12.779Z"
   },
   {
    "duration": 160,
    "start_time": "2023-04-16T13:25:12.815Z"
   },
   {
    "duration": 102,
    "start_time": "2023-04-16T13:25:12.978Z"
   },
   {
    "duration": 509,
    "start_time": "2023-04-16T13:25:13.081Z"
   },
   {
    "duration": 40267,
    "start_time": "2023-04-16T13:25:13.591Z"
   },
   {
    "duration": 18,
    "start_time": "2023-04-16T13:25:53.860Z"
   },
   {
    "duration": 11,
    "start_time": "2023-04-16T13:25:53.880Z"
   },
   {
    "duration": 379,
    "start_time": "2023-04-16T13:25:53.893Z"
   },
   {
    "duration": 487,
    "start_time": "2023-04-16T13:25:54.274Z"
   },
   {
    "duration": 55672,
    "start_time": "2023-04-16T13:25:54.763Z"
   },
   {
    "duration": 11,
    "start_time": "2023-04-16T13:26:50.436Z"
   },
   {
    "duration": 232,
    "start_time": "2023-04-16T13:26:50.448Z"
   },
   {
    "duration": 279,
    "start_time": "2023-04-16T13:26:50.682Z"
   },
   {
    "duration": 22734,
    "start_time": "2023-04-16T13:26:50.963Z"
   },
   {
    "duration": 29,
    "start_time": "2023-04-16T13:27:13.698Z"
   },
   {
    "duration": 1141,
    "start_time": "2023-04-16T13:53:30.739Z"
   },
   {
    "duration": 152,
    "start_time": "2023-04-16T13:53:31.882Z"
   },
   {
    "duration": 17,
    "start_time": "2023-04-16T13:53:32.036Z"
   },
   {
    "duration": 20,
    "start_time": "2023-04-16T13:53:32.055Z"
   },
   {
    "duration": 28,
    "start_time": "2023-04-16T13:53:32.077Z"
   },
   {
    "duration": 10,
    "start_time": "2023-04-16T13:53:32.106Z"
   },
   {
    "duration": 29,
    "start_time": "2023-04-16T13:53:32.118Z"
   },
   {
    "duration": 18,
    "start_time": "2023-04-16T13:53:32.149Z"
   },
   {
    "duration": 61,
    "start_time": "2023-04-16T13:53:32.169Z"
   },
   {
    "duration": 49,
    "start_time": "2023-04-16T13:53:32.232Z"
   },
   {
    "duration": 350,
    "start_time": "2023-04-16T13:53:32.283Z"
   },
   {
    "duration": 39927,
    "start_time": "2023-04-16T13:53:32.634Z"
   },
   {
    "duration": 31,
    "start_time": "2023-04-16T13:54:12.563Z"
   },
   {
    "duration": 384,
    "start_time": "2023-04-16T13:54:12.595Z"
   },
   {
    "duration": 38879,
    "start_time": "2023-04-16T13:54:12.981Z"
   },
   {
    "duration": 22,
    "start_time": "2023-04-16T13:54:51.861Z"
   },
   {
    "duration": 19,
    "start_time": "2023-04-16T13:54:51.885Z"
   },
   {
    "duration": 407,
    "start_time": "2023-04-16T13:54:51.906Z"
   },
   {
    "duration": 54409,
    "start_time": "2023-04-16T13:54:52.315Z"
   },
   {
    "duration": 14,
    "start_time": "2023-04-16T13:55:46.726Z"
   },
   {
    "duration": 175,
    "start_time": "2023-04-16T13:55:46.742Z"
   },
   {
    "duration": 22134,
    "start_time": "2023-04-16T13:55:46.919Z"
   },
   {
    "duration": 43,
    "start_time": "2023-04-16T13:56:09.055Z"
   },
   {
    "duration": 4,
    "start_time": "2023-04-16T14:09:04.819Z"
   },
   {
    "duration": 92,
    "start_time": "2023-04-16T14:09:04.827Z"
   },
   {
    "duration": 12,
    "start_time": "2023-04-16T14:09:04.921Z"
   },
   {
    "duration": 4,
    "start_time": "2023-04-16T14:09:04.935Z"
   },
   {
    "duration": 23,
    "start_time": "2023-04-16T14:09:04.940Z"
   },
   {
    "duration": 17,
    "start_time": "2023-04-16T14:09:04.965Z"
   },
   {
    "duration": 18,
    "start_time": "2023-04-16T14:09:04.983Z"
   },
   {
    "duration": 9,
    "start_time": "2023-04-16T14:09:05.003Z"
   },
   {
    "duration": 53,
    "start_time": "2023-04-16T14:09:05.014Z"
   },
   {
    "duration": 13,
    "start_time": "2023-04-16T14:09:05.068Z"
   },
   {
    "duration": 5985,
    "start_time": "2023-04-16T14:09:05.083Z"
   },
   {
    "duration": 41103,
    "start_time": "2023-04-16T14:09:11.069Z"
   },
   {
    "duration": 29,
    "start_time": "2023-04-16T14:09:52.174Z"
   },
   {
    "duration": 6182,
    "start_time": "2023-04-16T14:09:52.205Z"
   },
   {
    "duration": 41498,
    "start_time": "2023-04-16T14:09:58.390Z"
   },
   {
    "duration": 19,
    "start_time": "2023-04-16T14:10:39.889Z"
   },
   {
    "duration": 13,
    "start_time": "2023-04-16T14:10:39.910Z"
   },
   {
    "duration": 8328,
    "start_time": "2023-04-16T14:10:39.924Z"
   },
   {
    "duration": 57914,
    "start_time": "2023-04-16T14:10:48.253Z"
   },
   {
    "duration": 11,
    "start_time": "2023-04-16T14:11:46.169Z"
   },
   {
    "duration": 2961,
    "start_time": "2023-04-16T14:11:46.181Z"
   },
   {
    "duration": 22922,
    "start_time": "2023-04-16T14:11:49.143Z"
   },
   {
    "duration": 33,
    "start_time": "2023-04-16T14:12:12.072Z"
   }
  ],
  "kernelspec": {
   "display_name": "Python 3 (ipykernel)",
   "language": "python",
   "name": "python3"
  },
  "language_info": {
   "codemirror_mode": {
    "name": "ipython",
    "version": 3
   },
   "file_extension": ".py",
   "mimetype": "text/x-python",
   "name": "python",
   "nbconvert_exporter": "python",
   "pygments_lexer": "ipython3",
   "version": "3.9.5"
  },
  "toc": {
   "base_numbering": 1,
   "nav_menu": {},
   "number_sections": true,
   "sideBar": true,
   "skip_h1_title": true,
   "title_cell": "Содержание",
   "title_sidebar": "Contents",
   "toc_cell": true,
   "toc_position": {},
   "toc_section_display": true,
   "toc_window_display": false
  }
 },
 "nbformat": 4,
 "nbformat_minor": 2
}
